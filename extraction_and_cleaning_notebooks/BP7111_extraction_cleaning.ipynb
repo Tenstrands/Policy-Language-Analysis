{
 "cells": [
  {
   "cell_type": "code",
   "execution_count": 20,
   "metadata": {},
   "outputs": [],
   "source": [
    "import pandas as pd\n",
    "from utils import *\n",
    "import os\n",
    "import fitz\n",
    "from pdf2image import convert_from_path\n",
    "import pytesseract\n",
    "import nltk\n",
    "from nltk.corpus import stopwords\n",
    "from nltk.tokenize import word_tokenize\n",
    "import string\n",
    "import re"
   ]
  },
  {
   "cell_type": "code",
   "execution_count": 15,
   "metadata": {},
   "outputs": [],
   "source": [
    "os.chdir('/Users/judyhe/Desktop/ten strands/ten strands research/policy-language-analysis/data/BP_7111')"
   ]
  },
  {
   "cell_type": "code",
   "execution_count": 30,
   "metadata": {},
   "outputs": [],
   "source": [
    "policy_pdf_collection_doc_path = \"BP_7111.xlsx\" # insert pdf collection doc path here\n",
    "\n",
    "policy_pdfs = pd.read_excel(policy_pdf_collection_doc_path)"
   ]
  },
  {
   "cell_type": "code",
   "execution_count": 31,
   "metadata": {},
   "outputs": [
    {
     "name": "stderr",
     "output_type": "stream",
     "text": [
      "/Users/judyhe/Desktop/ten strands/ten strands research/policy-language-analysis/extraction_and_cleaning_notebooks/utils.py:52: FutureWarning: Setting an item of incompatible dtype is deprecated and will raise an error in a future version of pandas. Value 'Book\n",
      "Board Policies\n",
      "Section\n",
      "7000 - Facilities\n",
      "Title\n",
      "Evaluating Existing Buildings\n",
      "Code\n",
      "7111\n",
      "Status\n",
      "Active\n",
      "Adopted\n",
      "August 23, 2001\n",
      "Last Revised\n",
      "June 28, 2012\n",
      "EVALUATING EXISTING BUILDINGS\n",
      " \n",
      " \n",
      "The adequacy and design of all existing school facilities shall be evaluated periodically in terms of meeting the\n",
      "needs of the instructional program and fulfilling the requirements of law regarding safety and structural\n",
      "soundness, accessibility to the individuals with disabilities and energy conservation.\n",
      " \n",
      "A primary consideration in evaluating existing facilities shall be the preservation of a healthful environment for\n",
      "students and staff as well as providing an aesthetically pleasing learning and working atmosphere.\n",
      " \n",
      "In the evaluation of existing buildings, the installation of energy conserving devices, including insulation or the\n",
      "implementation of other design modifications, shall be considered as permitted by law for purposes of reducing\n",
      "energy costs.\n",
      " \n",
      " \n",
      "Legal Reference:\n",
      "EDUCATION CODE\n",
      "17070.10-17077.10  Leroy F. Greene School Facilities Act of 1998, especially:\n",
      "17071.10-17071.40  Existing school building capacity\n",
      "17280-17316  Building approvals\n",
      "17365-17374  Fitness for occupancy\n",
      "17650-17653  Retrofitting school facilities for energy conservation\n",
      "GOVERNMENT CODE\n",
      "53097  Compliance with city or county ordinances\n",
      "53097.5  Inspection of schools by city or county\n",
      "CODE OF REGULATIONS, TITLE 2\n",
      "1859-1859.106  Regulations relating to the Leroy F. Greene School Facilities Act of 1998\n",
      " \n",
      "Management Resources:\n",
      "CSBA PUBLICATIONS\n",
      "Maximizing School Board Governance: School Facilities Management\n",
      "WEB SITES\n",
      "CSBA:  http://www.csba.org\n",
      "California Department of Education, School Facilities Division: http://www.cde.ca.gov/ls/fa\n",
      "California Energy Commission, Bright Schools Program: http://www.energy.ca.gov/efficiency/brightschools\n",
      "Coalition for Adequate School Housing: http://www.cashnet.org\n",
      "Department of General Services, Office of Public School Construction:  http://www.opsc.dgs.ca.gov\n",
      "' has dtype incompatible with float64, please explicitly cast to a compatible dtype first.\n",
      "  policy_pdfs.at[index, text_column] = text\n"
     ]
    },
    {
     "name": "stdout",
     "output_type": "stream",
     "text": [
      "All relevant rows have text extracted.\n"
     ]
    }
   ],
   "source": [
    "policy_pdfs = extract_and_update_pdf_texts(policy_pdfs, 'BP7111: Path to PDF', 'BP7111: PDF Text')\n",
    "\n",
    "# check all relevant columns and pdfs have been extracted\n",
    "check_and_report_missing_texts(policy_pdfs, 'BP: 7111 Evaluating Existing Buildings', 'BP7111: Path to PDF', 'BP7111: PDF Text')"
   ]
  },
  {
   "cell_type": "code",
   "execution_count": 32,
   "metadata": {},
   "outputs": [],
   "source": [
    "def to_lowercase(text):\n",
    "    '''Lower case'''\n",
    "    return text.lower()\n",
    "\n",
    "def remove_punctuation(text):\n",
    "    '''Remove punctuation'''\n",
    "    return text.translate(str.maketrans('', '', string.punctuation))\n",
    "\n",
    "def remove_stopwords(text):\n",
    "    '''Remove stopwords'''\n",
    "    stop_words = set(stopwords.words('english'))\n",
    "    words = word_tokenize(text)\n",
    "    filtered_words = [word for word in words if word not in stop_words]\n",
    "    return ' '.join(filtered_words)\n",
    "\n",
    "def remove_space(text):\n",
    "    '''Remove multiple spaces with a single space'''\n",
    "    return re.sub(r'\\s+', ' ', text)\n",
    "\n",
    "def remove_newlines(text):\n",
    "    '''Remove newlines with a space'''\n",
    "    return text.replace('\\n', ' ')\n",
    "\n",
    "def remove_leading_trailing_space(text):\n",
    "    '''Remove leading/trailing space'''\n",
    "    return text.strip()\n",
    "\n",
    "def tokenize(text):\n",
    "    '''Tokenize text'''\n",
    "    return word_tokenize(text)\n",
    "\n",
    "def remove_cf_pattern(text):\n",
    "    '''Remove cf pattern in text'''\n",
    "    pattern = r'\\(\\s*cf[^()]*\\)'\n",
    "    return re.sub(pattern, '', text, flags=re.IGNORECASE)\n",
    "\n",
    "def remove_after_references(text):\n",
    "    '''Remove legal references section if present'''\n",
    "    if isinstance(text, str):\n",
    "        references = ['legal reference', 'policy reference', 'state reference']\n",
    "        for ref in references:\n",
    "            if ref in text:\n",
    "                return text.split(ref, 1)[0].strip()\n",
    "    return text"
   ]
  },
  {
   "cell_type": "code",
   "execution_count": 33,
   "metadata": {},
   "outputs": [],
   "source": [
    "def apply_transformations(text):\n",
    "    text = remove_newlines(text)\n",
    "    # text = to_lowercase(text)\n",
    "    # text = remove_stopwords(text)\n",
    "    text = remove_cf_pattern(text)\n",
    "    # text = remove_punctuation(text)\n",
    "    text = remove_after_references(text)\n",
    "    return text\n",
    "\n",
    "# Apply transformations to the 'PDF Text' column conditionally\n",
    "policy_pdfs.loc[policy_pdfs['BP: 7111 Evaluating Existing Buildings'] == 1, 'BP7111: PDF Text'] = \\\n",
    "    policy_pdfs.loc[policy_pdfs['BP: 7111 Evaluating Existing Buildings'] == 1, 'BP7111: PDF Text'].apply(apply_transformations)"
   ]
  },
  {
   "cell_type": "code",
   "execution_count": 45,
   "metadata": {},
   "outputs": [],
   "source": [
    "policy_pdfs = policy_pdfs.iloc[:,:-2]"
   ]
  },
  {
   "cell_type": "code",
   "execution_count": 46,
   "metadata": {},
   "outputs": [],
   "source": [
    "policy_pdfs.to_csv('../../cleaned_data/BP_7111_cleaned.csv', index='False')"
   ]
  }
 ],
 "metadata": {
  "kernelspec": {
   "display_name": "ts_ci",
   "language": "python",
   "name": "python3"
  },
  "language_info": {
   "codemirror_mode": {
    "name": "ipython",
    "version": 3
   },
   "file_extension": ".py",
   "mimetype": "text/x-python",
   "name": "python",
   "nbconvert_exporter": "python",
   "pygments_lexer": "ipython3",
   "version": "3.12.5"
  }
 },
 "nbformat": 4,
 "nbformat_minor": 2
}

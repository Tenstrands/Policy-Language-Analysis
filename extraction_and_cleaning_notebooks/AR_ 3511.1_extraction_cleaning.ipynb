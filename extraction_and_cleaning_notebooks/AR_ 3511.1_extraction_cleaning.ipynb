{
 "cells": [
  {
   "cell_type": "code",
   "execution_count": 23,
   "id": "16b965d9-ab35-4d92-8003-b4bf3059d7ce",
   "metadata": {},
   "outputs": [],
   "source": [
    "import pandas as pd\n",
    "import numpy as np\n",
    "from utils import *\n",
    "import os\n",
    "import fitz\n",
    "from pdf2image import convert_from_path\n",
    "import pytesseract\n",
    "import nltk\n",
    "import re\n",
    "from nltk.corpus import stopwords\n",
    "from nltk.stem import WordNetLemmatizer\n",
    "from nltk.tokenize import word_tokenize\n",
    "import pdfplumber"
   ]
  },
  {
   "cell_type": "code",
   "execution_count": 2,
   "id": "cbb4db79-7375-4275-be98-f248acaf5ea4",
   "metadata": {},
   "outputs": [],
   "source": [
    "os.chdir('/Users/sooyeonkim/Desktop/TenStrands')"
   ]
  },
  {
   "cell_type": "code",
   "execution_count": 3,
   "id": "26bd5bad-9975-42d9-8325-bdfb3ac284ed",
   "metadata": {},
   "outputs": [],
   "source": [
    "master = pd.read_excel('District Level Master Spreadsheet-UCB Policy Analysis - BP_AR 3511.1.xlsx')"
   ]
  },
  {
   "cell_type": "code",
   "execution_count": 4,
   "id": "d5317120-3576-465e-bd28-a4ecbd349154",
   "metadata": {},
   "outputs": [],
   "source": [
    "master['AR3511.1 PDF Name'] = master['District Name'].str.replace(' ', '_') + '_' + master['County'].str.replace(' ', '_') + '_AR3511.1.pdf'"
   ]
  },
  {
   "cell_type": "code",
   "execution_count": 5,
   "id": "ce921e34-5720-48c2-894b-033ec26e4994",
   "metadata": {
    "scrolled": true
   },
   "outputs": [],
   "source": [
    "# load  dataset that contains paths to PDFs\n",
    "df = master\n",
    "\n",
    "# initialize columns to store PDF text\n",
    "df['AR3511.1: PDF Text'] = np.nan\n",
    "\n",
    "# set the columns to object type explicitly to store strings\n",
    "df['AR3511.1: PDF Text'] = df['AR3511.1: PDF Text'].astype('object')"
   ]
  },
  {
   "cell_type": "code",
   "execution_count": 6,
   "id": "aef25f04-99a5-4d35-b48d-c541725ffb1f",
   "metadata": {},
   "outputs": [],
   "source": [
    "# base paths\n",
    "base_path = \"/Users/sooyeonkim/Desktop/TenStrands/Policy-Language-Analysis/data/AR_3511.1/\"\n",
    "\n",
    "# constructing full paths\n",
    "master['AR3511.1: Path to PDF'] = base_path + master['AR3511.1 PDF Name'].astype(str)"
   ]
  },
  {
   "cell_type": "code",
   "execution_count": 7,
   "id": "f5d01c10-3e84-4aff-bfc8-b5ae156acda6",
   "metadata": {},
   "outputs": [],
   "source": [
    "def extract_text_from_pdf(file_path):\n",
    "    \"\"\"Extracts text from a PDF file.\"\"\"\n",
    "    try:\n",
    "        with pdfplumber.open(file_path) as pdf:\n",
    "            text = ''.join([page.extract_text() or '' for page in pdf.pages])\n",
    "        return text\n",
    "    except Exception as e:\n",
    "        print(f\"Failed to process {file_path}: {e}\")\n",
    "        return None  "
   ]
  },
  {
   "cell_type": "code",
   "execution_count": 8,
   "id": "ceb121a8-c55b-4879-96fd-7cde5d2f9af3",
   "metadata": {
    "scrolled": true
   },
   "outputs": [
    {
     "name": "stdout",
     "output_type": "stream",
     "text": [
      "Failed to process /Users/sooyeonkim/Desktop/TenStrands/Policy-Language-Analysis/data/AR_3511.1/Albany_City_Unified_Alameda_AR3511.1.pdf: [Errno 2] No such file or directory: '/Users/sooyeonkim/Desktop/TenStrands/Policy-Language-Analysis/data/AR_3511.1/Albany_City_Unified_Alameda_AR3511.1.pdf'\n",
      "Failed to process /Users/sooyeonkim/Desktop/TenStrands/Policy-Language-Analysis/data/AR_3511.1/Fremont_Unified_Alameda_AR3511.1.pdf: [Errno 2] No such file or directory: '/Users/sooyeonkim/Desktop/TenStrands/Policy-Language-Analysis/data/AR_3511.1/Fremont_Unified_Alameda_AR3511.1.pdf'\n",
      "Failed to process /Users/sooyeonkim/Desktop/TenStrands/Policy-Language-Analysis/data/AR_3511.1/Sunol_Glen_Unified_Alameda_AR3511.1.pdf: [Errno 2] No such file or directory: '/Users/sooyeonkim/Desktop/TenStrands/Policy-Language-Analysis/data/AR_3511.1/Sunol_Glen_Unified_Alameda_AR3511.1.pdf'\n",
      "Failed to process /Users/sooyeonkim/Desktop/TenStrands/Policy-Language-Analysis/data/AR_3511.1/Biggs_Unified_Butte_AR3511.1.pdf: [Errno 2] No such file or directory: '/Users/sooyeonkim/Desktop/TenStrands/Policy-Language-Analysis/data/AR_3511.1/Biggs_Unified_Butte_AR3511.1.pdf'\n",
      "Failed to process /Users/sooyeonkim/Desktop/TenStrands/Policy-Language-Analysis/data/AR_3511.1/Chico_Unified_Butte_AR3511.1.pdf: [Errno 2] No such file or directory: '/Users/sooyeonkim/Desktop/TenStrands/Policy-Language-Analysis/data/AR_3511.1/Chico_Unified_Butte_AR3511.1.pdf'\n",
      "Failed to process /Users/sooyeonkim/Desktop/TenStrands/Policy-Language-Analysis/data/AR_3511.1/Mark_Twain_Union_Elementary_Calaveras_AR3511.1.pdf: [Errno 2] No such file or directory: '/Users/sooyeonkim/Desktop/TenStrands/Policy-Language-Analysis/data/AR_3511.1/Mark_Twain_Union_Elementary_Calaveras_AR3511.1.pdf'\n",
      "Failed to process /Users/sooyeonkim/Desktop/TenStrands/Policy-Language-Analysis/data/AR_3511.1/Antioch_Unified_Contra_Costa_AR3511.1.pdf: [Errno 2] No such file or directory: '/Users/sooyeonkim/Desktop/TenStrands/Policy-Language-Analysis/data/AR_3511.1/Antioch_Unified_Contra_Costa_AR3511.1.pdf'\n",
      "Failed to process /Users/sooyeonkim/Desktop/TenStrands/Policy-Language-Analysis/data/AR_3511.1/Brentwood_Union_Contra_Costa_AR3511.1.pdf: [Errno 2] No such file or directory: '/Users/sooyeonkim/Desktop/TenStrands/Policy-Language-Analysis/data/AR_3511.1/Brentwood_Union_Contra_Costa_AR3511.1.pdf'\n",
      "Failed to process /Users/sooyeonkim/Desktop/TenStrands/Policy-Language-Analysis/data/AR_3511.1/Gold_Oak_Union_Elementary_El_Dorado_AR3511.1.pdf: [Errno 2] No such file or directory: '/Users/sooyeonkim/Desktop/TenStrands/Policy-Language-Analysis/data/AR_3511.1/Gold_Oak_Union_Elementary_El_Dorado_AR3511.1.pdf'\n",
      "Failed to process /Users/sooyeonkim/Desktop/TenStrands/Policy-Language-Analysis/data/AR_3511.1/Gold_Trail_Union_Elementary_El_Dorado_AR3511.1.pdf: [Errno 2] No such file or directory: '/Users/sooyeonkim/Desktop/TenStrands/Policy-Language-Analysis/data/AR_3511.1/Gold_Trail_Union_Elementary_El_Dorado_AR3511.1.pdf'\n",
      "Failed to process /Users/sooyeonkim/Desktop/TenStrands/Policy-Language-Analysis/data/AR_3511.1/Placerville_Union_Elementary_El_Dorado_AR3511.1.pdf: [Errno 2] No such file or directory: '/Users/sooyeonkim/Desktop/TenStrands/Policy-Language-Analysis/data/AR_3511.1/Placerville_Union_Elementary_El_Dorado_AR3511.1.pdf'\n",
      "Failed to process /Users/sooyeonkim/Desktop/TenStrands/Policy-Language-Analysis/data/AR_3511.1/Black_Oak_Mine_Unified_El_Dorado_AR3511.1.pdf: [Errno 2] No such file or directory: '/Users/sooyeonkim/Desktop/TenStrands/Policy-Language-Analysis/data/AR_3511.1/Black_Oak_Mine_Unified_El_Dorado_AR3511.1.pdf'\n",
      "Failed to process /Users/sooyeonkim/Desktop/TenStrands/Policy-Language-Analysis/data/AR_3511.1/Fresno_Unified_Fresno_AR3511.1.pdf: [Errno 2] No such file or directory: '/Users/sooyeonkim/Desktop/TenStrands/Policy-Language-Analysis/data/AR_3511.1/Fresno_Unified_Fresno_AR3511.1.pdf'\n",
      "Failed to process /Users/sooyeonkim/Desktop/TenStrands/Policy-Language-Analysis/data/AR_3511.1/Parlier_Unified_Fresno_AR3511.1.pdf: [Errno 2] No such file or directory: '/Users/sooyeonkim/Desktop/TenStrands/Policy-Language-Analysis/data/AR_3511.1/Parlier_Unified_Fresno_AR3511.1.pdf'\n",
      "Failed to process /Users/sooyeonkim/Desktop/TenStrands/Policy-Language-Analysis/data/AR_3511.1/Westside_Elementary_Fresno_AR3511.1.pdf: [Errno 2] No such file or directory: '/Users/sooyeonkim/Desktop/TenStrands/Policy-Language-Analysis/data/AR_3511.1/Westside_Elementary_Fresno_AR3511.1.pdf'\n",
      "Failed to process /Users/sooyeonkim/Desktop/TenStrands/Policy-Language-Analysis/data/AR_3511.1/Washington_Unified_Fresno_AR3511.1.pdf: [Errno 2] No such file or directory: '/Users/sooyeonkim/Desktop/TenStrands/Policy-Language-Analysis/data/AR_3511.1/Washington_Unified_Fresno_AR3511.1.pdf'\n",
      "Failed to process /Users/sooyeonkim/Desktop/TenStrands/Policy-Language-Analysis/data/AR_3511.1/Cuddeback_Union_Elementary_Humboldt_AR3511.1.pdf: [Errno 2] No such file or directory: '/Users/sooyeonkim/Desktop/TenStrands/Policy-Language-Analysis/data/AR_3511.1/Cuddeback_Union_Elementary_Humboldt_AR3511.1.pdf'\n",
      "Failed to process /Users/sooyeonkim/Desktop/TenStrands/Policy-Language-Analysis/data/AR_3511.1/Brawley_Union_High_Imperial_AR3511.1.pdf: [Errno 2] No such file or directory: '/Users/sooyeonkim/Desktop/TenStrands/Policy-Language-Analysis/data/AR_3511.1/Brawley_Union_High_Imperial_AR3511.1.pdf'\n",
      "Failed to process /Users/sooyeonkim/Desktop/TenStrands/Policy-Language-Analysis/data/AR_3511.1/Calipatria_Unified_Imperial_AR3511.1.pdf: [Errno 2] No such file or directory: '/Users/sooyeonkim/Desktop/TenStrands/Policy-Language-Analysis/data/AR_3511.1/Calipatria_Unified_Imperial_AR3511.1.pdf'\n",
      "Failed to process /Users/sooyeonkim/Desktop/TenStrands/Policy-Language-Analysis/data/AR_3511.1/Bishop_Unified_Inyo_AR3511.1.pdf: [Errno 2] No such file or directory: '/Users/sooyeonkim/Desktop/TenStrands/Policy-Language-Analysis/data/AR_3511.1/Bishop_Unified_Inyo_AR3511.1.pdf'\n",
      "Failed to process /Users/sooyeonkim/Desktop/TenStrands/Policy-Language-Analysis/data/AR_3511.1/Kern_High_Kern_AR3511.1.pdf: [Errno 2] No such file or directory: '/Users/sooyeonkim/Desktop/TenStrands/Policy-Language-Analysis/data/AR_3511.1/Kern_High_Kern_AR3511.1.pdf'\n",
      "Failed to process /Users/sooyeonkim/Desktop/TenStrands/Policy-Language-Analysis/data/AR_3511.1/Midway_Elementary_Kern_AR3511.1.pdf: [Errno 2] No such file or directory: '/Users/sooyeonkim/Desktop/TenStrands/Policy-Language-Analysis/data/AR_3511.1/Midway_Elementary_Kern_AR3511.1.pdf'\n",
      "Failed to process /Users/sooyeonkim/Desktop/TenStrands/Policy-Language-Analysis/data/AR_3511.1/Taft_City_Kern_AR3511.1.pdf: [Errno 2] No such file or directory: '/Users/sooyeonkim/Desktop/TenStrands/Policy-Language-Analysis/data/AR_3511.1/Taft_City_Kern_AR3511.1.pdf'\n",
      "Failed to process /Users/sooyeonkim/Desktop/TenStrands/Policy-Language-Analysis/data/AR_3511.1/Taft_Union_High_Kern_AR3511.1.pdf: [Errno 2] No such file or directory: '/Users/sooyeonkim/Desktop/TenStrands/Policy-Language-Analysis/data/AR_3511.1/Taft_Union_High_Kern_AR3511.1.pdf'\n",
      "Failed to process /Users/sooyeonkim/Desktop/TenStrands/Policy-Language-Analysis/data/AR_3511.1/Arcadia_Unified_Los_Angeles_AR3511.1.pdf: [Errno 2] No such file or directory: '/Users/sooyeonkim/Desktop/TenStrands/Policy-Language-Analysis/data/AR_3511.1/Arcadia_Unified_Los_Angeles_AR3511.1.pdf'\n",
      "Failed to process /Users/sooyeonkim/Desktop/TenStrands/Policy-Language-Analysis/data/AR_3511.1/Bellflower_Unified_Los_Angeles_AR3511.1.pdf: [Errno 2] No such file or directory: '/Users/sooyeonkim/Desktop/TenStrands/Policy-Language-Analysis/data/AR_3511.1/Bellflower_Unified_Los_Angeles_AR3511.1.pdf'\n",
      "Failed to process /Users/sooyeonkim/Desktop/TenStrands/Policy-Language-Analysis/data/AR_3511.1/Los_Angeles_Unified_Los_Angeles_AR3511.1.pdf: [Errno 2] No such file or directory: '/Users/sooyeonkim/Desktop/TenStrands/Policy-Language-Analysis/data/AR_3511.1/Los_Angeles_Unified_Los_Angeles_AR3511.1.pdf'\n",
      "Failed to process /Users/sooyeonkim/Desktop/TenStrands/Policy-Language-Analysis/data/AR_3511.1/Mountain_View_Elementary_Los_Angeles_AR3511.1.pdf: [Errno 2] No such file or directory: '/Users/sooyeonkim/Desktop/TenStrands/Policy-Language-Analysis/data/AR_3511.1/Mountain_View_Elementary_Los_Angeles_AR3511.1.pdf'\n",
      "Failed to process /Users/sooyeonkim/Desktop/TenStrands/Policy-Language-Analysis/data/AR_3511.1/Bolinas-Stinson_Union_Marin_AR3511.1.pdf: [Errno 2] No such file or directory: '/Users/sooyeonkim/Desktop/TenStrands/Policy-Language-Analysis/data/AR_3511.1/Bolinas-Stinson_Union_Marin_AR3511.1.pdf'\n",
      "Failed to process /Users/sooyeonkim/Desktop/TenStrands/Policy-Language-Analysis/data/AR_3511.1/Point_Arena_Joint_Union_High_Mendocino_AR3511.1.pdf: [Errno 2] No such file or directory: '/Users/sooyeonkim/Desktop/TenStrands/Policy-Language-Analysis/data/AR_3511.1/Point_Arena_Joint_Union_High_Mendocino_AR3511.1.pdf'\n",
      "Failed to process /Users/sooyeonkim/Desktop/TenStrands/Policy-Language-Analysis/data/AR_3511.1/Willits_Unified_Mendocino_AR3511.1.pdf: [Errno 2] No such file or directory: '/Users/sooyeonkim/Desktop/TenStrands/Policy-Language-Analysis/data/AR_3511.1/Willits_Unified_Mendocino_AR3511.1.pdf'\n",
      "Failed to process /Users/sooyeonkim/Desktop/TenStrands/Policy-Language-Analysis/data/AR_3511.1/Merced_City_Elementary_Merced_AR3511.1.pdf: [Errno 2] No such file or directory: '/Users/sooyeonkim/Desktop/TenStrands/Policy-Language-Analysis/data/AR_3511.1/Merced_City_Elementary_Merced_AR3511.1.pdf'\n",
      "Failed to process /Users/sooyeonkim/Desktop/TenStrands/Policy-Language-Analysis/data/AR_3511.1/Pleasant_Ridge_Union_Elementary_Nevada_AR3511.1.pdf: [Errno 2] No such file or directory: '/Users/sooyeonkim/Desktop/TenStrands/Policy-Language-Analysis/data/AR_3511.1/Pleasant_Ridge_Union_Elementary_Nevada_AR3511.1.pdf'\n",
      "Failed to process /Users/sooyeonkim/Desktop/TenStrands/Policy-Language-Analysis/data/AR_3511.1/Twin_Ridges_Elementary_Nevada_AR3511.1.pdf: [Errno 2] No such file or directory: '/Users/sooyeonkim/Desktop/TenStrands/Policy-Language-Analysis/data/AR_3511.1/Twin_Ridges_Elementary_Nevada_AR3511.1.pdf'\n",
      "Failed to process /Users/sooyeonkim/Desktop/TenStrands/Policy-Language-Analysis/data/AR_3511.1/Laguna_Beach_Unified_Orange_AR3511.1.pdf: [Errno 2] No such file or directory: '/Users/sooyeonkim/Desktop/TenStrands/Policy-Language-Analysis/data/AR_3511.1/Laguna_Beach_Unified_Orange_AR3511.1.pdf'\n",
      "Failed to process /Users/sooyeonkim/Desktop/TenStrands/Policy-Language-Analysis/data/AR_3511.1/Ocean_View_Orange_AR3511.1.pdf: [Errno 2] No such file or directory: '/Users/sooyeonkim/Desktop/TenStrands/Policy-Language-Analysis/data/AR_3511.1/Ocean_View_Orange_AR3511.1.pdf'\n",
      "Failed to process /Users/sooyeonkim/Desktop/TenStrands/Policy-Language-Analysis/data/AR_3511.1/Santa_Ana_Unified_Orange_AR3511.1.pdf: [Errno 2] No such file or directory: '/Users/sooyeonkim/Desktop/TenStrands/Policy-Language-Analysis/data/AR_3511.1/Santa_Ana_Unified_Orange_AR3511.1.pdf'\n",
      "Failed to process /Users/sooyeonkim/Desktop/TenStrands/Policy-Language-Analysis/data/AR_3511.1/Placer_Hills_Union_Elementary_Placer_AR3511.1.pdf: [Errno 2] No such file or directory: '/Users/sooyeonkim/Desktop/TenStrands/Policy-Language-Analysis/data/AR_3511.1/Placer_Hills_Union_Elementary_Placer_AR3511.1.pdf'\n",
      "Failed to process /Users/sooyeonkim/Desktop/TenStrands/Policy-Language-Analysis/data/AR_3511.1/Temecula_Valley_Unified_Riverside_AR3511.1.pdf: [Errno 2] No such file or directory: '/Users/sooyeonkim/Desktop/TenStrands/Policy-Language-Analysis/data/AR_3511.1/Temecula_Valley_Unified_Riverside_AR3511.1.pdf'\n",
      "Failed to process /Users/sooyeonkim/Desktop/TenStrands/Policy-Language-Analysis/data/AR_3511.1/Galt_Joint_Union_High_Sacramento_AR3511.1.pdf: [Errno 2] No such file or directory: '/Users/sooyeonkim/Desktop/TenStrands/Policy-Language-Analysis/data/AR_3511.1/Galt_Joint_Union_High_Sacramento_AR3511.1.pdf'\n",
      "Failed to process /Users/sooyeonkim/Desktop/TenStrands/Policy-Language-Analysis/data/AR_3511.1/Hollister_San_Benito_AR3511.1.pdf: [Errno 2] No such file or directory: '/Users/sooyeonkim/Desktop/TenStrands/Policy-Language-Analysis/data/AR_3511.1/Hollister_San_Benito_AR3511.1.pdf'\n",
      "Failed to process /Users/sooyeonkim/Desktop/TenStrands/Policy-Language-Analysis/data/AR_3511.1/Yucaipa-Calimesa_Joint_Unified_San_Bernardino_AR3511.1.pdf: [Errno 2] No such file or directory: '/Users/sooyeonkim/Desktop/TenStrands/Policy-Language-Analysis/data/AR_3511.1/Yucaipa-Calimesa_Joint_Unified_San_Bernardino_AR3511.1.pdf'\n",
      "Failed to process /Users/sooyeonkim/Desktop/TenStrands/Policy-Language-Analysis/data/AR_3511.1/Cardiff_Elementary_San_Diego_AR3511.1.pdf: [Errno 2] No such file or directory: '/Users/sooyeonkim/Desktop/TenStrands/Policy-Language-Analysis/data/AR_3511.1/Cardiff_Elementary_San_Diego_AR3511.1.pdf'\n",
      "Failed to process /Users/sooyeonkim/Desktop/TenStrands/Policy-Language-Analysis/data/AR_3511.1/Bayshore_Elementary_San_Mateo_AR3511.1.pdf: [Errno 2] No such file or directory: '/Users/sooyeonkim/Desktop/TenStrands/Policy-Language-Analysis/data/AR_3511.1/Bayshore_Elementary_San_Mateo_AR3511.1.pdf'\n",
      "Failed to process /Users/sooyeonkim/Desktop/TenStrands/Policy-Language-Analysis/data/AR_3511.1/Burlingame_Elementary_San_Mateo_AR3511.1.pdf: [Errno 2] No such file or directory: '/Users/sooyeonkim/Desktop/TenStrands/Policy-Language-Analysis/data/AR_3511.1/Burlingame_Elementary_San_Mateo_AR3511.1.pdf'\n",
      "Failed to process /Users/sooyeonkim/Desktop/TenStrands/Policy-Language-Analysis/data/AR_3511.1/San_Carlos_Elementary_San_Mateo_AR3511.1.pdf: [Errno 2] No such file or directory: '/Users/sooyeonkim/Desktop/TenStrands/Policy-Language-Analysis/data/AR_3511.1/San_Carlos_Elementary_San_Mateo_AR3511.1.pdf'\n",
      "Failed to process /Users/sooyeonkim/Desktop/TenStrands/Policy-Language-Analysis/data/AR_3511.1/Cuyama_Joint_Unified_Santa_Barbara_AR3511.1.pdf: [Errno 2] No such file or directory: '/Users/sooyeonkim/Desktop/TenStrands/Policy-Language-Analysis/data/AR_3511.1/Cuyama_Joint_Unified_Santa_Barbara_AR3511.1.pdf'\n",
      "Failed to process /Users/sooyeonkim/Desktop/TenStrands/Policy-Language-Analysis/data/AR_3511.1/East_Side_Union_High_Santa_Clara_AR3511.1.pdf: [Errno 2] No such file or directory: '/Users/sooyeonkim/Desktop/TenStrands/Policy-Language-Analysis/data/AR_3511.1/East_Side_Union_High_Santa_Clara_AR3511.1.pdf'\n",
      "Failed to process /Users/sooyeonkim/Desktop/TenStrands/Policy-Language-Analysis/data/AR_3511.1/Loma_Prieta_Joint_Union_Elementary_Santa_Clara_AR3511.1.pdf: [Errno 2] No such file or directory: '/Users/sooyeonkim/Desktop/TenStrands/Policy-Language-Analysis/data/AR_3511.1/Loma_Prieta_Joint_Union_Elementary_Santa_Clara_AR3511.1.pdf'\n",
      "Failed to process /Users/sooyeonkim/Desktop/TenStrands/Policy-Language-Analysis/data/AR_3511.1/Morgan_Hill_Unified_Santa_Clara_AR3511.1.pdf: [Errno 2] No such file or directory: '/Users/sooyeonkim/Desktop/TenStrands/Policy-Language-Analysis/data/AR_3511.1/Morgan_Hill_Unified_Santa_Clara_AR3511.1.pdf'\n",
      "Failed to process /Users/sooyeonkim/Desktop/TenStrands/Policy-Language-Analysis/data/AR_3511.1/Mountain_View_Whisman_Santa_Clara_AR3511.1.pdf: [Errno 2] No such file or directory: '/Users/sooyeonkim/Desktop/TenStrands/Policy-Language-Analysis/data/AR_3511.1/Mountain_View_Whisman_Santa_Clara_AR3511.1.pdf'\n",
      "Failed to process /Users/sooyeonkim/Desktop/TenStrands/Policy-Language-Analysis/data/AR_3511.1/San_Jose_Unified_Santa_Clara_AR3511.1.pdf: [Errno 2] No such file or directory: '/Users/sooyeonkim/Desktop/TenStrands/Policy-Language-Analysis/data/AR_3511.1/San_Jose_Unified_Santa_Clara_AR3511.1.pdf'\n",
      "Failed to process /Users/sooyeonkim/Desktop/TenStrands/Policy-Language-Analysis/data/AR_3511.1/Santa_Clara_Unified_Santa_Clara_AR3511.1.pdf: [Errno 2] No such file or directory: '/Users/sooyeonkim/Desktop/TenStrands/Policy-Language-Analysis/data/AR_3511.1/Santa_Clara_Unified_Santa_Clara_AR3511.1.pdf'\n",
      "Failed to process /Users/sooyeonkim/Desktop/TenStrands/Policy-Language-Analysis/data/AR_3511.1/Santa_Cruz_City_Elementary_Santa_Cruz_AR3511.1.pdf: [Errno 2] No such file or directory: '/Users/sooyeonkim/Desktop/TenStrands/Policy-Language-Analysis/data/AR_3511.1/Santa_Cruz_City_Elementary_Santa_Cruz_AR3511.1.pdf'\n",
      "Failed to process /Users/sooyeonkim/Desktop/TenStrands/Policy-Language-Analysis/data/AR_3511.1/Santa_Cruz_City_High_Santa_Cruz_AR3511.1.pdf: [Errno 2] No such file or directory: '/Users/sooyeonkim/Desktop/TenStrands/Policy-Language-Analysis/data/AR_3511.1/Santa_Cruz_City_High_Santa_Cruz_AR3511.1.pdf'\n",
      "Failed to process /Users/sooyeonkim/Desktop/TenStrands/Policy-Language-Analysis/data/AR_3511.1/Castle_Rock_Union_Elementary_Shasta_AR3511.1.pdf: [Errno 2] No such file or directory: '/Users/sooyeonkim/Desktop/TenStrands/Policy-Language-Analysis/data/AR_3511.1/Castle_Rock_Union_Elementary_Shasta_AR3511.1.pdf'\n",
      "Failed to process /Users/sooyeonkim/Desktop/TenStrands/Policy-Language-Analysis/data/AR_3511.1/Mountain_Union_Elementary_Shasta_AR3511.1.pdf: [Errno 2] No such file or directory: '/Users/sooyeonkim/Desktop/TenStrands/Policy-Language-Analysis/data/AR_3511.1/Mountain_Union_Elementary_Shasta_AR3511.1.pdf'\n",
      "Failed to process /Users/sooyeonkim/Desktop/TenStrands/Policy-Language-Analysis/data/AR_3511.1/Dunsmuir_Elementary_Siskiyou_AR3511.1.pdf: [Errno 2] No such file or directory: '/Users/sooyeonkim/Desktop/TenStrands/Policy-Language-Analysis/data/AR_3511.1/Dunsmuir_Elementary_Siskiyou_AR3511.1.pdf'\n",
      "Failed to process /Users/sooyeonkim/Desktop/TenStrands/Policy-Language-Analysis/data/AR_3511.1/Junction_Elementary_Siskiyou_AR3511.1.pdf: [Errno 2] No such file or directory: '/Users/sooyeonkim/Desktop/TenStrands/Policy-Language-Analysis/data/AR_3511.1/Junction_Elementary_Siskiyou_AR3511.1.pdf'\n",
      "Failed to process /Users/sooyeonkim/Desktop/TenStrands/Policy-Language-Analysis/data/AR_3511.1/Cinnabar_Elementary_Sonoma_AR3511.1.pdf: [Errno 2] No such file or directory: '/Users/sooyeonkim/Desktop/TenStrands/Policy-Language-Analysis/data/AR_3511.1/Cinnabar_Elementary_Sonoma_AR3511.1.pdf'\n",
      "Failed to process /Users/sooyeonkim/Desktop/TenStrands/Policy-Language-Analysis/data/AR_3511.1/Liberty_Elementary_Sonoma_AR3511.1.pdf: [Errno 2] No such file or directory: '/Users/sooyeonkim/Desktop/TenStrands/Policy-Language-Analysis/data/AR_3511.1/Liberty_Elementary_Sonoma_AR3511.1.pdf'\n",
      "Failed to process /Users/sooyeonkim/Desktop/TenStrands/Policy-Language-Analysis/data/AR_3511.1/Twin_Hills_Union_Elementary_Sonoma_AR3511.1.pdf: [Errno 2] No such file or directory: '/Users/sooyeonkim/Desktop/TenStrands/Policy-Language-Analysis/data/AR_3511.1/Twin_Hills_Union_Elementary_Sonoma_AR3511.1.pdf'\n",
      "Failed to process /Users/sooyeonkim/Desktop/TenStrands/Policy-Language-Analysis/data/AR_3511.1/Brittan_Elementary_Sutter_AR3511.1.pdf: [Errno 2] No such file or directory: '/Users/sooyeonkim/Desktop/TenStrands/Policy-Language-Analysis/data/AR_3511.1/Brittan_Elementary_Sutter_AR3511.1.pdf'\n",
      "Failed to process /Users/sooyeonkim/Desktop/TenStrands/Policy-Language-Analysis/data/AR_3511.1/Gerber_Union_Elementary_Tehama_AR3511.1.pdf: [Errno 2] No such file or directory: '/Users/sooyeonkim/Desktop/TenStrands/Policy-Language-Analysis/data/AR_3511.1/Gerber_Union_Elementary_Tehama_AR3511.1.pdf'\n",
      "Failed to process /Users/sooyeonkim/Desktop/TenStrands/Policy-Language-Analysis/data/AR_3511.1/Rockford_Elementary_Tulare_AR3511.1.pdf: [Errno 2] No such file or directory: '/Users/sooyeonkim/Desktop/TenStrands/Policy-Language-Analysis/data/AR_3511.1/Rockford_Elementary_Tulare_AR3511.1.pdf'\n",
      "Failed to process /Users/sooyeonkim/Desktop/TenStrands/Policy-Language-Analysis/data/AR_3511.1/Three_Rivers_Union_Elementary_Tulare_AR3511.1.pdf: [Errno 2] No such file or directory: '/Users/sooyeonkim/Desktop/TenStrands/Policy-Language-Analysis/data/AR_3511.1/Three_Rivers_Union_Elementary_Tulare_AR3511.1.pdf'\n",
      "Failed to process /Users/sooyeonkim/Desktop/TenStrands/Policy-Language-Analysis/data/AR_3511.1/Waukena_Joint_Union_Elementary_Tulare_AR3511.1.pdf: [Errno 2] No such file or directory: '/Users/sooyeonkim/Desktop/TenStrands/Policy-Language-Analysis/data/AR_3511.1/Waukena_Joint_Union_Elementary_Tulare_AR3511.1.pdf'\n",
      "Failed to process /Users/sooyeonkim/Desktop/TenStrands/Policy-Language-Analysis/data/AR_3511.1/Farmersville_Unified_Tulare_AR3511.1.pdf: [Errno 2] No such file or directory: '/Users/sooyeonkim/Desktop/TenStrands/Policy-Language-Analysis/data/AR_3511.1/Farmersville_Unified_Tulare_AR3511.1.pdf'\n",
      "Failed to process /Users/sooyeonkim/Desktop/TenStrands/Policy-Language-Analysis/data/AR_3511.1/Oxnard_Union_High_Ventura_AR3511.1.pdf: [Errno 2] No such file or directory: '/Users/sooyeonkim/Desktop/TenStrands/Policy-Language-Analysis/data/AR_3511.1/Oxnard_Union_High_Ventura_AR3511.1.pdf'\n"
     ]
    }
   ],
   "source": [
    "for index, row in df.iterrows():\n",
    "    if pd.notna(row['AR3511.1: Path to PDF']):\n",
    "        ar_text = extract_text_from_pdf(row['AR3511.1: Path to PDF'])\n",
    "        df.at[index, 'AR3511.1: PDF Text'] = ar_text"
   ]
  },
  {
   "cell_type": "code",
   "execution_count": 10,
   "id": "e40ac761-d73c-49ad-a809-ccaaf13cbc9e",
   "metadata": {},
   "outputs": [],
   "source": [
    "def clean_pdf_text(text):\n",
    "    text = text.lower() # Lowercase text \n",
    "    text = re.sub(r'boardpolicymanual', '', text, flags=re.IGNORECASE)\n",
    "    text = re.sub(r'\\b\\w+unifiedschooldistrict\\b', '', text, flags=re.IGNORECASE)\n",
    "    text = re.sub(r'\\b\\d{1,}\\b', '', text, flags=re.IGNORECASE)\n",
    "    text = re.sub(r'policy reference disclaimer.*$', '', text, flags=re.IGNORECASE)\n",
    "    text = re.sub(r'supporting documents.*$', '', text, flags=re.IGNORECASE)\n",
    "    text = re.sub(r'state references.*$', '', text, flags=re.IGNORECASE)\n",
    "    text = re.sub(r'education code.*$', '', text, flags=re.IGNORECASE)\n",
    "    text = re.sub(r'legal reference.*', '', text, flags=re.IGNORECASE | re.DOTALL) # regex to remove 'legal reference' and everything after\n",
    "\n",
    "\n",
    "    tokens = word_tokenize(text) # Tokenize text\n",
    "    tokens = [re.sub(r'[^\\w\\s]', '', token) for token in tokens if re.sub(r'[^\\w\\s]', '', token)] # regex to match punctuation\n",
    "    stop_words = set(stopwords.words('english')) # stop words\n",
    "    tokens = [word for word in tokens if word not in stop_words] # removing stop words \n",
    "    lemmatizer = WordNetLemmatizer() \n",
    "    tokens = [lemmatizer.lemmatize(word) for word in tokens]  # lemmetize \n",
    "    cleaned_text = ' '.join(tokens) # join tokens back into a string\n",
    "    \n",
    "    return cleaned_text"
   ]
  },
  {
   "cell_type": "code",
   "execution_count": 11,
   "id": "7f33d3cc-5eb6-43c2-927a-27c19a6762a5",
   "metadata": {},
   "outputs": [],
   "source": [
    "df['AR3511.1: PDF Text'] = df['AR3511.1: PDF Text'].astype(str)\n",
    "\n",
    "df['AR3511.1: PDF Text'] = df['AR3511.1: PDF Text'].apply(clean_pdf_text)\n"
   ]
  },
  {
   "cell_type": "code",
   "execution_count": 39,
   "id": "69b454a7-3d5b-424e-8cf6-0605169e1656",
   "metadata": {},
   "outputs": [],
   "source": [
    "df['AR3511.1: PDF Text'] = df['AR3511.1: PDF Text'].str.replace('rreegguullaattiioonn', '', regex=False)\n",
    "df['AR3511.1: PDF Text'] = df['AR3511.1: PDF Text'].str.replace('iinntteeggrraatteedd', '', regex=False)\n",
    "df['AR3511.1: PDF Text'] = df['AR3511.1: PDF Text'].str.replace('wwaassttee', '', regex=False)\n",
    "df['AR3511.1: PDF Text'] = df['AR3511.1: PDF Text'].str.replace('oorriiggiinnaall', '', regex=False)\n",
    "df['AR3511.1: PDF Text'] = df['AR3511.1: PDF Text'].str.replace('rreevviieewweedd', '', regex=False)\n",
    "df['AR3511.1: PDF Text'] = df['AR3511.1: PDF Text'].str.replace('aaddoopptteedd', '', regex=False)\n",
    "df['AR3511.1: PDF Text'] = df['AR3511.1: PDF Text'].str.replace('ddaattee', '', regex=False)\n",
    "df['AR3511.1: PDF Text'] = df['AR3511.1: PDF Text'].str.replace('llaasstt', '', regex=False)\n",
    "df['AR3511.1: PDF Text'] = df['AR3511.1: PDF Text'].str.replace('mmaannaaggeemmeenntt', '', regex=False)\n",
    "df['AR3511.1: PDF Text'] = df['AR3511.1: PDF Text'].str.replace('ssttaattuuss', '', regex=False)\n",
    "df['AR3511.1: PDF Text'] = df['AR3511.1: PDF Text'].str.replace('oorriiggiinnaall', '', regex=False)\n",
    "df['AR3511.1: PDF Text'] = df['AR3511.1: PDF Text'].str.replace(r'simblieboard\\w+\\s*', '', regex=True)"
   ]
  },
  {
   "cell_type": "code",
   "execution_count": 41,
   "id": "9bcb5311-0caa-4feb-a186-9d6434e77800",
   "metadata": {},
   "outputs": [],
   "source": [
    "df.to_csv('/Users/sooyeonkim/Desktop/TenStrands/Policy-Language-Analysis/cleaned_data/AR_3511.1_cleaned.csv', index='False')"
   ]
  }
 ],
 "metadata": {
  "kernelspec": {
   "display_name": "Python 3 (ipykernel)",
   "language": "python",
   "name": "python3"
  },
  "language_info": {
   "codemirror_mode": {
    "name": "ipython",
    "version": 3
   },
   "file_extension": ".py",
   "mimetype": "text/x-python",
   "name": "python",
   "nbconvert_exporter": "python",
   "pygments_lexer": "ipython3",
   "version": "3.12.0"
  }
 },
 "nbformat": 4,
 "nbformat_minor": 5
}

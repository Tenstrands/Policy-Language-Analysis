{
 "cells": [
  {
   "cell_type": "code",
   "execution_count": 1,
   "metadata": {},
   "outputs": [],
   "source": [
    "import pandas as pd\n",
    "from utils import *\n",
    "import os\n",
    "import fitz\n",
    "from pdf2image import convert_from_path\n",
    "import pytesseract\n",
    "# add more libraries as needed"
   ]
  },
  {
   "cell_type": "markdown",
   "metadata": {},
   "source": [
    "#### Step 1: Change Working Directory"
   ]
  },
  {
   "cell_type": "code",
   "execution_count": null,
   "metadata": {},
   "outputs": [],
   "source": [
    "os.chdir('insert-path-to-pdfs-folder-here')"
   ]
  },
  {
   "cell_type": "markdown",
   "metadata": {},
   "source": [
    "#### Step 2: Load Data"
   ]
  },
  {
   "cell_type": "code",
   "execution_count": 4,
   "metadata": {},
   "outputs": [],
   "source": [
    "policy_pdf_collection_doc_path = \"insert-collection-doc-path-here\" # insert pdf collection doc path here\n",
    "\n",
    "policy_pdfs = pd.read_excel(policy_pdf_collection_doc_path)"
   ]
  },
  {
   "cell_type": "markdown",
   "metadata": {},
   "source": [
    "#### Step 3: Extract Text from PDFs"
   ]
  },
  {
   "cell_type": "code",
   "execution_count": 6,
   "metadata": {},
   "outputs": [
    {
     "name": "stdout",
     "output_type": "stream",
     "text": [
      "All relevant rows have text extracted.\n"
     ]
    }
   ],
   "source": [
    "policy_pdfs = extract_and_update_pdf_texts(policy_pdfs, 'insert-name-of-pdf-column', 'insert-name-of-text-column')\n",
    "\n",
    "# check all relevant columns and pdfs have been extracted\n",
    "check_and_report_missing_texts(policy_pdfs, 'insert-column-name-to-check', 'insert-name-of-pdf-column', 'insert-name-of-text-column')"
   ]
  },
  {
   "cell_type": "markdown",
   "metadata": {},
   "source": [
    "### Step 4: Clean up Text"
   ]
  },
  {
   "cell_type": "code",
   "execution_count": null,
   "metadata": {},
   "outputs": [],
   "source": [
    "# add as much code space as needed for cleaning"
   ]
  },
  {
   "cell_type": "markdown",
   "metadata": {},
   "source": [
    "### Step 5: Load cleaned Text into Data folder for Analysis"
   ]
  },
  {
   "cell_type": "code",
   "execution_count": null,
   "metadata": {},
   "outputs": [],
   "source": [
    "# save cleaned text in the PDF Text column and load data into the cleaned_data folder, name appropriately\n",
    "\n",
    "# should look similar to this line below\n",
    "# policy_pdfs.to_csv('../cleaned_data/<filename>.csv', index='False')"
   ]
  }
 ],
 "metadata": {
  "kernelspec": {
   "display_name": "Python 3 (ipykernel)",
   "language": "python",
   "name": "python3"
  },
  "language_info": {
   "codemirror_mode": {
    "name": "ipython",
    "version": 3
   },
   "file_extension": ".py",
   "mimetype": "text/x-python",
   "name": "python",
   "nbconvert_exporter": "python",
   "pygments_lexer": "ipython3",
   "version": "3.9.12"
  }
 },
 "nbformat": 4,
 "nbformat_minor": 2
}

{
 "cells": [
  {
   "cell_type": "code",
   "execution_count": 1,
   "metadata": {},
   "outputs": [],
   "source": [
    "import pandas as pd\n",
    "from utils import *\n",
    "import os\n",
    "import fitz\n",
    "from pdf2image import convert_from_path\n",
    "import numpy as np"
   ]
  },
  {
   "cell_type": "markdown",
   "metadata": {},
   "source": [
    "#### Step 1: Change Working Directory"
   ]
  },
  {
   "cell_type": "code",
   "execution_count": 2,
   "metadata": {},
   "outputs": [],
   "source": [
    "os.chdir('/Users/sooyeonkim/Desktop/TenStrands')"
   ]
  },
  {
   "cell_type": "code",
   "execution_count": 3,
   "metadata": {
    "scrolled": true
   },
   "outputs": [],
   "source": [
    "master = pd.read_excel('District Level Master Spreadsheet-UCB Policy Analysis - BP_AR 3514.xlsx')"
   ]
  },
  {
   "cell_type": "code",
   "execution_count": 4,
   "metadata": {},
   "outputs": [],
   "source": [
    "master['BP3514'] = master['District Name'].str.replace(' ', '_') + '_' + master['County'].str.replace(' ', '_') + '_BP3514.pdf'\n",
    "master['AR3514'] = master['District Name'].str.replace(' ', '_') + '_' + master['County'].str.replace(' ', '_') + '_AR3514.pdf'\n",
    "master.to_excel('District Level Master Spreadsheet-UCB Policy Analysis - BP_AR 3514.xlsx', index=False)"
   ]
  },
  {
   "cell_type": "code",
   "execution_count": 5,
   "metadata": {},
   "outputs": [],
   "source": [
    "# base paths\n",
    "base_path_ar = \"/Users/sooyeonkim/Desktop/TenStrands/AR_pdf/\"\n",
    "base_path_bp = \"/Users/sooyeonkim/Desktop/TenStrands/BP_pdf/\"\n",
    "\n",
    "# constructing full paths\n",
    "master['AR3514: Path to PDF'] = base_path_ar + master['AR3514'].astype(str)\n",
    "master['BP3514: Path to PDF'] = base_path_bp + master['BP3514'].astype(str)"
   ]
  },
  {
   "cell_type": "markdown",
   "metadata": {},
   "source": [
    "#### Step 2: Load Data"
   ]
  },
  {
   "cell_type": "code",
   "execution_count": 6,
   "metadata": {},
   "outputs": [],
   "source": [
    "import pdfplumber\n",
    "import pandas as pd\n",
    "import os\n",
    "\n",
    "# specify the directory containing the PDF files\n",
    "pdf_directory = \"/Users/sooyeonkim/Desktop/TenStrands/pdf_files\""
   ]
  },
  {
   "cell_type": "code",
   "execution_count": 7,
   "metadata": {
    "scrolled": true
   },
   "outputs": [],
   "source": [
    "# load  dataset that contains paths to PDFs\n",
    "df = master\n",
    "\n",
    "# initialize columns to store PDF text\n",
    "df['BP3514: PDF Text'] = np.nan\n",
    "df['AR3514: PDF Text'] = np.nan\n",
    "\n",
    "# set the columns to object type explicitly to store strings\n",
    "df['BP3514: PDF Text'] = df['BP3514: PDF Text'].astype('object')\n",
    "df['AR3514: PDF Text'] = df['AR3514: PDF Text'].astype('object')"
   ]
  },
  {
   "cell_type": "code",
   "execution_count": 8,
   "metadata": {},
   "outputs": [],
   "source": [
    "def extract_text_from_pdf(file_path):\n",
    "    \"\"\"Extracts text from a PDF file.\"\"\"\n",
    "    try:\n",
    "        with pdfplumber.open(file_path) as pdf:\n",
    "            text = ''.join([page.extract_text() or '' for page in pdf.pages])\n",
    "        return text\n",
    "    except Exception as e:\n",
    "        print(f\"Failed to process {file_path}: {e}\")\n",
    "        return None  "
   ]
  },
  {
   "cell_type": "code",
   "execution_count": 9,
   "metadata": {
    "scrolled": true
   },
   "outputs": [
    {
     "name": "stdout",
     "output_type": "stream",
     "text": [
      "Failed to process /Users/sooyeonkim/Desktop/TenStrands/BP_pdf/Albany_City_Unified_Alameda_BP3514.pdf: [Errno 2] No such file or directory: '/Users/sooyeonkim/Desktop/TenStrands/BP_pdf/Albany_City_Unified_Alameda_BP3514.pdf'\n",
      "Failed to process /Users/sooyeonkim/Desktop/TenStrands/AR_pdf/Fremont_Unified_Alameda_AR3514.pdf: [Errno 2] No such file or directory: '/Users/sooyeonkim/Desktop/TenStrands/AR_pdf/Fremont_Unified_Alameda_AR3514.pdf'\n",
      "Failed to process /Users/sooyeonkim/Desktop/TenStrands/BP_pdf/Fremont_Unified_Alameda_BP3514.pdf: [Errno 2] No such file or directory: '/Users/sooyeonkim/Desktop/TenStrands/BP_pdf/Fremont_Unified_Alameda_BP3514.pdf'\n",
      "Failed to process /Users/sooyeonkim/Desktop/TenStrands/AR_pdf/New_Haven_Unified_Alameda_AR3514.pdf: [Errno 2] No such file or directory: '/Users/sooyeonkim/Desktop/TenStrands/AR_pdf/New_Haven_Unified_Alameda_AR3514.pdf'\n",
      "Failed to process /Users/sooyeonkim/Desktop/TenStrands/AR_pdf/San_Lorenzo_Unified_Alameda_AR3514.pdf: [Errno 2] No such file or directory: '/Users/sooyeonkim/Desktop/TenStrands/AR_pdf/San_Lorenzo_Unified_Alameda_AR3514.pdf'\n",
      "Failed to process /Users/sooyeonkim/Desktop/TenStrands/AR_pdf/Biggs_Unified_Butte_AR3514.pdf: [Errno 2] No such file or directory: '/Users/sooyeonkim/Desktop/TenStrands/AR_pdf/Biggs_Unified_Butte_AR3514.pdf'\n",
      "Failed to process /Users/sooyeonkim/Desktop/TenStrands/AR_pdf/Maxwell_Unified_Colusa_AR3514.pdf: [Errno 2] No such file or directory: '/Users/sooyeonkim/Desktop/TenStrands/AR_pdf/Maxwell_Unified_Colusa_AR3514.pdf'\n",
      "Failed to process /Users/sooyeonkim/Desktop/TenStrands/AR_pdf/Knightsen_Elementary_Contra_Costa_AR3514.pdf: [Errno 2] No such file or directory: '/Users/sooyeonkim/Desktop/TenStrands/AR_pdf/Knightsen_Elementary_Contra_Costa_AR3514.pdf'\n",
      "Failed to process /Users/sooyeonkim/Desktop/TenStrands/AR_pdf/Lafayette_Elementary_Contra_Costa_AR3514.pdf: [Errno 2] No such file or directory: '/Users/sooyeonkim/Desktop/TenStrands/AR_pdf/Lafayette_Elementary_Contra_Costa_AR3514.pdf'\n",
      "Failed to process /Users/sooyeonkim/Desktop/TenStrands/BP_pdf/San_Ramon_Valley_Unified_Contra_Costa_BP3514.pdf: [Errno 2] No such file or directory: '/Users/sooyeonkim/Desktop/TenStrands/BP_pdf/San_Ramon_Valley_Unified_Contra_Costa_BP3514.pdf'\n",
      "Failed to process /Users/sooyeonkim/Desktop/TenStrands/AR_pdf/Gold_Oak_Union_Elementary_El_Dorado_AR3514.pdf: [Errno 2] No such file or directory: '/Users/sooyeonkim/Desktop/TenStrands/AR_pdf/Gold_Oak_Union_Elementary_El_Dorado_AR3514.pdf'\n",
      "Failed to process /Users/sooyeonkim/Desktop/TenStrands/AR_pdf/Indian_Diggings_Elementary_El_Dorado_AR3514.pdf: [Errno 2] No such file or directory: '/Users/sooyeonkim/Desktop/TenStrands/AR_pdf/Indian_Diggings_Elementary_El_Dorado_AR3514.pdf'\n",
      "Failed to process /Users/sooyeonkim/Desktop/TenStrands/BP_pdf/Mother_Lode_Union_Elementary_El_Dorado_BP3514.pdf: [Errno 2] No such file or directory: '/Users/sooyeonkim/Desktop/TenStrands/BP_pdf/Mother_Lode_Union_Elementary_El_Dorado_BP3514.pdf'\n",
      "Failed to process /Users/sooyeonkim/Desktop/TenStrands/AR_pdf/Placerville_Union_Elementary_El_Dorado_AR3514.pdf: [Errno 2] No such file or directory: '/Users/sooyeonkim/Desktop/TenStrands/AR_pdf/Placerville_Union_Elementary_El_Dorado_AR3514.pdf'\n",
      "Failed to process /Users/sooyeonkim/Desktop/TenStrands/AR_pdf/Black_Oak_Mine_Unified_El_Dorado_AR3514.pdf: [Errno 2] No such file or directory: '/Users/sooyeonkim/Desktop/TenStrands/AR_pdf/Black_Oak_Mine_Unified_El_Dorado_AR3514.pdf'\n",
      "Failed to process /Users/sooyeonkim/Desktop/TenStrands/AR_pdf/Clovis_Unified_Fresno_AR3514.pdf: [Errno 2] No such file or directory: '/Users/sooyeonkim/Desktop/TenStrands/AR_pdf/Clovis_Unified_Fresno_AR3514.pdf'\n",
      "Failed to process /Users/sooyeonkim/Desktop/TenStrands/BP_pdf/Clovis_Unified_Fresno_BP3514.pdf: [Errno 2] No such file or directory: '/Users/sooyeonkim/Desktop/TenStrands/BP_pdf/Clovis_Unified_Fresno_BP3514.pdf'\n",
      "Failed to process /Users/sooyeonkim/Desktop/TenStrands/BP_pdf/Sanger_Unified_Fresno_BP3514.pdf: [Errno 2] No such file or directory: '/Users/sooyeonkim/Desktop/TenStrands/BP_pdf/Sanger_Unified_Fresno_BP3514.pdf'\n",
      "Failed to process /Users/sooyeonkim/Desktop/TenStrands/AR_pdf/Washington_Colony_Elementary_Fresno_AR3514.pdf: [Errno 2] No such file or directory: '/Users/sooyeonkim/Desktop/TenStrands/AR_pdf/Washington_Colony_Elementary_Fresno_AR3514.pdf'\n",
      "Failed to process /Users/sooyeonkim/Desktop/TenStrands/AR_pdf/Kerman_Unified_Fresno_AR3514.pdf: [Errno 2] No such file or directory: '/Users/sooyeonkim/Desktop/TenStrands/AR_pdf/Kerman_Unified_Fresno_AR3514.pdf'\n",
      "Failed to process /Users/sooyeonkim/Desktop/TenStrands/BP_pdf/Kerman_Unified_Fresno_BP3514.pdf: [Errno 2] No such file or directory: '/Users/sooyeonkim/Desktop/TenStrands/BP_pdf/Kerman_Unified_Fresno_BP3514.pdf'\n",
      "Failed to process /Users/sooyeonkim/Desktop/TenStrands/AR_pdf/Golden_Plains_Unified_Fresno_AR3514.pdf: [Errno 2] No such file or directory: '/Users/sooyeonkim/Desktop/TenStrands/AR_pdf/Golden_Plains_Unified_Fresno_AR3514.pdf'\n",
      "Failed to process /Users/sooyeonkim/Desktop/TenStrands/AR_pdf/Washington_Unified_Fresno_AR3514.pdf: [Errno 2] No such file or directory: '/Users/sooyeonkim/Desktop/TenStrands/AR_pdf/Washington_Unified_Fresno_AR3514.pdf'\n",
      "Failed to process /Users/sooyeonkim/Desktop/TenStrands/BP_pdf/Washington_Unified_Fresno_BP3514.pdf: [Errno 2] No such file or directory: '/Users/sooyeonkim/Desktop/TenStrands/BP_pdf/Washington_Unified_Fresno_BP3514.pdf'\n",
      "Failed to process /Users/sooyeonkim/Desktop/TenStrands/AR_pdf/Cuddeback_Union_Elementary_Humboldt_AR3514.pdf: [Errno 2] No such file or directory: '/Users/sooyeonkim/Desktop/TenStrands/AR_pdf/Cuddeback_Union_Elementary_Humboldt_AR3514.pdf'\n",
      "Failed to process /Users/sooyeonkim/Desktop/TenStrands/AR_pdf/Peninsula_Union_Humboldt_AR3514.pdf: [Errno 2] No such file or directory: '/Users/sooyeonkim/Desktop/TenStrands/AR_pdf/Peninsula_Union_Humboldt_AR3514.pdf'\n",
      "Failed to process /Users/sooyeonkim/Desktop/TenStrands/AR_pdf/South_Bay_Union_Elementary_Humboldt_AR3514.pdf: [Errno 2] No such file or directory: '/Users/sooyeonkim/Desktop/TenStrands/AR_pdf/South_Bay_Union_Elementary_Humboldt_AR3514.pdf'\n",
      "Failed to process /Users/sooyeonkim/Desktop/TenStrands/AR_pdf/Brawley_Union_High_Imperial_AR3514.pdf: [Errno 2] No such file or directory: '/Users/sooyeonkim/Desktop/TenStrands/AR_pdf/Brawley_Union_High_Imperial_AR3514.pdf'\n",
      "Failed to process /Users/sooyeonkim/Desktop/TenStrands/BP_pdf/Brawley_Union_High_Imperial_BP3514.pdf: [Errno 2] No such file or directory: '/Users/sooyeonkim/Desktop/TenStrands/BP_pdf/Brawley_Union_High_Imperial_BP3514.pdf'\n",
      "Failed to process /Users/sooyeonkim/Desktop/TenStrands/AR_pdf/Calipatria_Unified_Imperial_AR3514.pdf: [Errno 2] No such file or directory: '/Users/sooyeonkim/Desktop/TenStrands/AR_pdf/Calipatria_Unified_Imperial_AR3514.pdf'\n",
      "Failed to process /Users/sooyeonkim/Desktop/TenStrands/BP_pdf/Bishop_Unified_Inyo_BP3514.pdf: [Errno 2] No such file or directory: '/Users/sooyeonkim/Desktop/TenStrands/BP_pdf/Bishop_Unified_Inyo_BP3514.pdf'\n",
      "Failed to process /Users/sooyeonkim/Desktop/TenStrands/AR_pdf/Fairfax_Elementary_Kern_AR3514.pdf: [Errno 2] No such file or directory: '/Users/sooyeonkim/Desktop/TenStrands/AR_pdf/Fairfax_Elementary_Kern_AR3514.pdf'\n",
      "Failed to process /Users/sooyeonkim/Desktop/TenStrands/BP_pdf/Kern_High_Kern_BP3514.pdf: [Errno 2] No such file or directory: '/Users/sooyeonkim/Desktop/TenStrands/BP_pdf/Kern_High_Kern_BP3514.pdf'\n",
      "Failed to process /Users/sooyeonkim/Desktop/TenStrands/AR_pdf/Muroc_Joint_Unified_Kern_AR3514.pdf: [Errno 2] No such file or directory: '/Users/sooyeonkim/Desktop/TenStrands/AR_pdf/Muroc_Joint_Unified_Kern_AR3514.pdf'\n",
      "Failed to process /Users/sooyeonkim/Desktop/TenStrands/AR_pdf/Rosedale_Union_Elementary_Kern_AR3514.pdf: [Errno 2] No such file or directory: '/Users/sooyeonkim/Desktop/TenStrands/AR_pdf/Rosedale_Union_Elementary_Kern_AR3514.pdf'\n",
      "Failed to process /Users/sooyeonkim/Desktop/TenStrands/BP_pdf/Rosedale_Union_Elementary_Kern_BP3514.pdf: [Errno 2] No such file or directory: '/Users/sooyeonkim/Desktop/TenStrands/BP_pdf/Rosedale_Union_Elementary_Kern_BP3514.pdf'\n",
      "Failed to process /Users/sooyeonkim/Desktop/TenStrands/AR_pdf/Taft_City_Kern_AR3514.pdf: [Errno 2] No such file or directory: '/Users/sooyeonkim/Desktop/TenStrands/AR_pdf/Taft_City_Kern_AR3514.pdf'\n",
      "Failed to process /Users/sooyeonkim/Desktop/TenStrands/AR_pdf/Taft_Union_High_Kern_AR3514.pdf: [Errno 2] No such file or directory: '/Users/sooyeonkim/Desktop/TenStrands/AR_pdf/Taft_Union_High_Kern_AR3514.pdf'\n",
      "Failed to process /Users/sooyeonkim/Desktop/TenStrands/AR_pdf/Corcoran_Joint_Unified_Kings_AR3514.pdf: [Errno 2] No such file or directory: '/Users/sooyeonkim/Desktop/TenStrands/AR_pdf/Corcoran_Joint_Unified_Kings_AR3514.pdf'\n",
      "Failed to process /Users/sooyeonkim/Desktop/TenStrands/BP_pdf/Hanford_Elementary_Kings_BP3514.pdf: [Errno 2] No such file or directory: '/Users/sooyeonkim/Desktop/TenStrands/BP_pdf/Hanford_Elementary_Kings_BP3514.pdf'\n",
      "Failed to process /Users/sooyeonkim/Desktop/TenStrands/AR_pdf/Lakeside_Union_Elementary_Kings_AR3514.pdf: [Errno 2] No such file or directory: '/Users/sooyeonkim/Desktop/TenStrands/AR_pdf/Lakeside_Union_Elementary_Kings_AR3514.pdf'\n",
      "Failed to process /Users/sooyeonkim/Desktop/TenStrands/AR_pdf/Lassen_Union_High_Lassen_AR3514.pdf: [Errno 2] No such file or directory: '/Users/sooyeonkim/Desktop/TenStrands/AR_pdf/Lassen_Union_High_Lassen_AR3514.pdf'\n",
      "Failed to process /Users/sooyeonkim/Desktop/TenStrands/BP_pdf/Lassen_Union_High_Lassen_BP3514.pdf: [Errno 2] No such file or directory: '/Users/sooyeonkim/Desktop/TenStrands/BP_pdf/Lassen_Union_High_Lassen_BP3514.pdf'\n",
      "Failed to process /Users/sooyeonkim/Desktop/TenStrands/AR_pdf/Arcadia_Unified_Los_Angeles_AR3514.pdf: [Errno 2] No such file or directory: '/Users/sooyeonkim/Desktop/TenStrands/AR_pdf/Arcadia_Unified_Los_Angeles_AR3514.pdf'\n",
      "Failed to process /Users/sooyeonkim/Desktop/TenStrands/AR_pdf/Bellflower_Unified_Los_Angeles_AR3514.pdf: [Errno 2] No such file or directory: '/Users/sooyeonkim/Desktop/TenStrands/AR_pdf/Bellflower_Unified_Los_Angeles_AR3514.pdf'\n",
      "Failed to process /Users/sooyeonkim/Desktop/TenStrands/AR_pdf/Charter_Oak_Unified_Los_Angeles_AR3514.pdf: [Errno 2] No such file or directory: '/Users/sooyeonkim/Desktop/TenStrands/AR_pdf/Charter_Oak_Unified_Los_Angeles_AR3514.pdf'\n",
      "Failed to process /Users/sooyeonkim/Desktop/TenStrands/AR_pdf/Claremont_Unified_Los_Angeles_AR3514.pdf: [Errno 2] No such file or directory: '/Users/sooyeonkim/Desktop/TenStrands/AR_pdf/Claremont_Unified_Los_Angeles_AR3514.pdf'\n",
      "Failed to process /Users/sooyeonkim/Desktop/TenStrands/AR_pdf/Montebello_Unified_Los_Angeles_AR3514.pdf: [Errno 2] No such file or directory: '/Users/sooyeonkim/Desktop/TenStrands/AR_pdf/Montebello_Unified_Los_Angeles_AR3514.pdf'\n",
      "Failed to process /Users/sooyeonkim/Desktop/TenStrands/AR_pdf/Mountain_View_Elementary_Los_Angeles_AR3514.pdf: [Errno 2] No such file or directory: '/Users/sooyeonkim/Desktop/TenStrands/AR_pdf/Mountain_View_Elementary_Los_Angeles_AR3514.pdf'\n",
      "Failed to process /Users/sooyeonkim/Desktop/TenStrands/AR_pdf/Pasadena_Unified_Los_Angeles_AR3514.pdf: [Errno 2] No such file or directory: '/Users/sooyeonkim/Desktop/TenStrands/AR_pdf/Pasadena_Unified_Los_Angeles_AR3514.pdf'\n",
      "Failed to process /Users/sooyeonkim/Desktop/TenStrands/BP_pdf/Pasadena_Unified_Los_Angeles_BP3514.pdf: [Errno 2] No such file or directory: '/Users/sooyeonkim/Desktop/TenStrands/BP_pdf/Pasadena_Unified_Los_Angeles_BP3514.pdf'\n",
      "Failed to process /Users/sooyeonkim/Desktop/TenStrands/AR_pdf/Pomona_Unified_Los_Angeles_AR3514.pdf: [Errno 2] No such file or directory: '/Users/sooyeonkim/Desktop/TenStrands/AR_pdf/Pomona_Unified_Los_Angeles_AR3514.pdf'\n",
      "Failed to process /Users/sooyeonkim/Desktop/TenStrands/AR_pdf/South_Whittier_Elementary_Los_Angeles_AR3514.pdf: [Errno 2] No such file or directory: '/Users/sooyeonkim/Desktop/TenStrands/AR_pdf/South_Whittier_Elementary_Los_Angeles_AR3514.pdf'\n",
      "Failed to process /Users/sooyeonkim/Desktop/TenStrands/AR_pdf/Whittier_Union_High_Los_Angeles_AR3514.pdf: [Errno 2] No such file or directory: '/Users/sooyeonkim/Desktop/TenStrands/AR_pdf/Whittier_Union_High_Los_Angeles_AR3514.pdf'\n",
      "Failed to process /Users/sooyeonkim/Desktop/TenStrands/AR_pdf/Hacienda_la_Puente_Unified_Los_Angeles_AR3514.pdf: [Errno 2] No such file or directory: '/Users/sooyeonkim/Desktop/TenStrands/AR_pdf/Hacienda_la_Puente_Unified_Los_Angeles_AR3514.pdf'\n",
      "Failed to process /Users/sooyeonkim/Desktop/TenStrands/AR_pdf/Alhambra_Unified_Los_Angeles_AR3514.pdf: [Errno 2] No such file or directory: '/Users/sooyeonkim/Desktop/TenStrands/AR_pdf/Alhambra_Unified_Los_Angeles_AR3514.pdf'\n",
      "Failed to process /Users/sooyeonkim/Desktop/TenStrands/AR_pdf/Yosemite_Unified_Madera_AR3514.pdf: [Errno 2] No such file or directory: '/Users/sooyeonkim/Desktop/TenStrands/AR_pdf/Yosemite_Unified_Madera_AR3514.pdf'\n",
      "Failed to process /Users/sooyeonkim/Desktop/TenStrands/AR_pdf/Kentfield_Elementary_Marin_AR3514.pdf: [Errno 2] No such file or directory: '/Users/sooyeonkim/Desktop/TenStrands/AR_pdf/Kentfield_Elementary_Marin_AR3514.pdf'\n",
      "Failed to process /Users/sooyeonkim/Desktop/TenStrands/AR_pdf/Mill_Valley_Elementary_Marin_AR3514.pdf: [Errno 2] No such file or directory: '/Users/sooyeonkim/Desktop/TenStrands/AR_pdf/Mill_Valley_Elementary_Marin_AR3514.pdf'\n",
      "Failed to process /Users/sooyeonkim/Desktop/TenStrands/AR_pdf/Reed_Union_Elementary_Marin_AR3514.pdf: [Errno 2] No such file or directory: '/Users/sooyeonkim/Desktop/TenStrands/AR_pdf/Reed_Union_Elementary_Marin_AR3514.pdf'\n",
      "Failed to process /Users/sooyeonkim/Desktop/TenStrands/AR_pdf/Mariposa_County_Unified_Mariposa_AR3514.pdf: [Errno 2] No such file or directory: '/Users/sooyeonkim/Desktop/TenStrands/AR_pdf/Mariposa_County_Unified_Mariposa_AR3514.pdf'\n",
      "Failed to process /Users/sooyeonkim/Desktop/TenStrands/BP_pdf/Mariposa_County_Unified_Mariposa_BP3514.pdf: [Errno 2] No such file or directory: '/Users/sooyeonkim/Desktop/TenStrands/BP_pdf/Mariposa_County_Unified_Mariposa_BP3514.pdf'\n",
      "Failed to process /Users/sooyeonkim/Desktop/TenStrands/AR_pdf/Fort_Bragg_Unified_Mendocino_AR3514.pdf: [Errno 2] No such file or directory: '/Users/sooyeonkim/Desktop/TenStrands/AR_pdf/Fort_Bragg_Unified_Mendocino_AR3514.pdf'\n",
      "Failed to process /Users/sooyeonkim/Desktop/TenStrands/AR_pdf/Willits_Unified_Mendocino_AR3514.pdf: [Errno 2] No such file or directory: '/Users/sooyeonkim/Desktop/TenStrands/AR_pdf/Willits_Unified_Mendocino_AR3514.pdf'\n",
      "Failed to process /Users/sooyeonkim/Desktop/TenStrands/AR_pdf/Laytonville_Unified_Mendocino_AR3514.pdf: [Errno 2] No such file or directory: '/Users/sooyeonkim/Desktop/TenStrands/AR_pdf/Laytonville_Unified_Mendocino_AR3514.pdf'\n",
      "Failed to process /Users/sooyeonkim/Desktop/TenStrands/AR_pdf/Merced_City_Elementary_Merced_AR3514.pdf: [Errno 2] No such file or directory: '/Users/sooyeonkim/Desktop/TenStrands/AR_pdf/Merced_City_Elementary_Merced_AR3514.pdf'\n",
      "Failed to process /Users/sooyeonkim/Desktop/TenStrands/AR_pdf/Merced_Union_High_Merced_AR3514.pdf: [Errno 2] No such file or directory: '/Users/sooyeonkim/Desktop/TenStrands/AR_pdf/Merced_Union_High_Merced_AR3514.pdf'\n",
      "Failed to process /Users/sooyeonkim/Desktop/TenStrands/BP_pdf/Delhi_Unified_Merced_BP3514.pdf: [Errno 2] No such file or directory: '/Users/sooyeonkim/Desktop/TenStrands/BP_pdf/Delhi_Unified_Merced_BP3514.pdf'\n",
      "Failed to process /Users/sooyeonkim/Desktop/TenStrands/AR_pdf/Bradley_Union_Elementary_Monterey_AR3514.pdf: [Errno 2] No such file or directory: '/Users/sooyeonkim/Desktop/TenStrands/AR_pdf/Bradley_Union_Elementary_Monterey_AR3514.pdf'\n",
      "Failed to process /Users/sooyeonkim/Desktop/TenStrands/AR_pdf/South_Monterey_County_Joint_Union_High_Monterey_AR3514.pdf: [Errno 2] No such file or directory: '/Users/sooyeonkim/Desktop/TenStrands/AR_pdf/South_Monterey_County_Joint_Union_High_Monterey_AR3514.pdf'\n",
      "Failed to process /Users/sooyeonkim/Desktop/TenStrands/BP_pdf/Pacific_Grove_Unified_Monterey_BP3514.pdf: [Errno 2] No such file or directory: '/Users/sooyeonkim/Desktop/TenStrands/BP_pdf/Pacific_Grove_Unified_Monterey_BP3514.pdf'\n",
      "Failed to process /Users/sooyeonkim/Desktop/TenStrands/AR_pdf/San_Ardo_Union_Elementary_Monterey_AR3514.pdf: [Errno 2] No such file or directory: '/Users/sooyeonkim/Desktop/TenStrands/AR_pdf/San_Ardo_Union_Elementary_Monterey_AR3514.pdf'\n",
      "Failed to process /Users/sooyeonkim/Desktop/TenStrands/BP_pdf/Saint_Helena_Unified_Napa_BP3514.pdf: [Errno 2] No such file or directory: '/Users/sooyeonkim/Desktop/TenStrands/BP_pdf/Saint_Helena_Unified_Napa_BP3514.pdf'\n",
      "Failed to process /Users/sooyeonkim/Desktop/TenStrands/AR_pdf/Twin_Ridges_Elementary_Nevada_AR3514.pdf: [Errno 2] No such file or directory: '/Users/sooyeonkim/Desktop/TenStrands/AR_pdf/Twin_Ridges_Elementary_Nevada_AR3514.pdf'\n",
      "Failed to process /Users/sooyeonkim/Desktop/TenStrands/AR_pdf/Lowell_Joint_Orange_AR3514.pdf: [Errno 2] No such file or directory: '/Users/sooyeonkim/Desktop/TenStrands/AR_pdf/Lowell_Joint_Orange_AR3514.pdf'\n",
      "Failed to process /Users/sooyeonkim/Desktop/TenStrands/BP_pdf/Anaheim_Elementary_Orange_BP3514.pdf: [Errno 2] No such file or directory: '/Users/sooyeonkim/Desktop/TenStrands/BP_pdf/Anaheim_Elementary_Orange_BP3514.pdf'\n",
      "Failed to process /Users/sooyeonkim/Desktop/TenStrands/AR_pdf/Capistrano_Unified_Orange_AR3514.pdf: [Errno 2] No such file or directory: '/Users/sooyeonkim/Desktop/TenStrands/AR_pdf/Capistrano_Unified_Orange_AR3514.pdf'\n",
      "Failed to process /Users/sooyeonkim/Desktop/TenStrands/AR_pdf/Fountain_Valley_Elementary_Orange_AR3514.pdf: [Errno 2] No such file or directory: '/Users/sooyeonkim/Desktop/TenStrands/AR_pdf/Fountain_Valley_Elementary_Orange_AR3514.pdf'\n",
      "Failed to process /Users/sooyeonkim/Desktop/TenStrands/AR_pdf/Fullerton_Joint_Union_High_Orange_AR3514.pdf: [Errno 2] No such file or directory: '/Users/sooyeonkim/Desktop/TenStrands/AR_pdf/Fullerton_Joint_Union_High_Orange_AR3514.pdf'\n",
      "Failed to process /Users/sooyeonkim/Desktop/TenStrands/AR_pdf/Laguna_Beach_Unified_Orange_AR3514.pdf: [Errno 2] No such file or directory: '/Users/sooyeonkim/Desktop/TenStrands/AR_pdf/Laguna_Beach_Unified_Orange_AR3514.pdf'\n",
      "Failed to process /Users/sooyeonkim/Desktop/TenStrands/AR_pdf/Ocean_View_Orange_AR3514.pdf: [Errno 2] No such file or directory: '/Users/sooyeonkim/Desktop/TenStrands/AR_pdf/Ocean_View_Orange_AR3514.pdf'\n",
      "Failed to process /Users/sooyeonkim/Desktop/TenStrands/BP_pdf/Ocean_View_Orange_BP3514.pdf: [Errno 2] No such file or directory: '/Users/sooyeonkim/Desktop/TenStrands/BP_pdf/Ocean_View_Orange_BP3514.pdf'\n",
      "Failed to process /Users/sooyeonkim/Desktop/TenStrands/AR_pdf/Orange_Unified_Orange_AR3514.pdf: [Errno 2] No such file or directory: '/Users/sooyeonkim/Desktop/TenStrands/AR_pdf/Orange_Unified_Orange_AR3514.pdf'\n",
      "Failed to process /Users/sooyeonkim/Desktop/TenStrands/AR_pdf/Westminster_Orange_AR3514.pdf: [Errno 2] No such file or directory: '/Users/sooyeonkim/Desktop/TenStrands/AR_pdf/Westminster_Orange_AR3514.pdf'\n",
      "Failed to process /Users/sooyeonkim/Desktop/TenStrands/BP_pdf/Palm_Springs_Unified_Riverside_BP3514.pdf: [Errno 2] No such file or directory: '/Users/sooyeonkim/Desktop/TenStrands/BP_pdf/Palm_Springs_Unified_Riverside_BP3514.pdf'\n",
      "Failed to process /Users/sooyeonkim/Desktop/TenStrands/AR_pdf/Sacramento_City_Unified_Sacramento_AR3514.pdf: [Errno 2] No such file or directory: '/Users/sooyeonkim/Desktop/TenStrands/AR_pdf/Sacramento_City_Unified_Sacramento_AR3514.pdf'\n",
      "Failed to process /Users/sooyeonkim/Desktop/TenStrands/AR_pdf/San_Juan_Unified_Sacramento_AR3514.pdf: [Errno 2] No such file or directory: '/Users/sooyeonkim/Desktop/TenStrands/AR_pdf/San_Juan_Unified_Sacramento_AR3514.pdf'\n",
      "Failed to process /Users/sooyeonkim/Desktop/TenStrands/AR_pdf/Natomas_Unified_Sacramento_AR3514.pdf: [Errno 2] No such file or directory: '/Users/sooyeonkim/Desktop/TenStrands/AR_pdf/Natomas_Unified_Sacramento_AR3514.pdf'\n",
      "Failed to process /Users/sooyeonkim/Desktop/TenStrands/BP_pdf/Natomas_Unified_Sacramento_BP3514.pdf: [Errno 2] No such file or directory: '/Users/sooyeonkim/Desktop/TenStrands/BP_pdf/Natomas_Unified_Sacramento_BP3514.pdf'\n",
      "Failed to process /Users/sooyeonkim/Desktop/TenStrands/AR_pdf/Southside_Elementary_San_Benito_AR3514.pdf: [Errno 2] No such file or directory: '/Users/sooyeonkim/Desktop/TenStrands/AR_pdf/Southside_Elementary_San_Benito_AR3514.pdf'\n",
      "Failed to process /Users/sooyeonkim/Desktop/TenStrands/AR_pdf/Etiwanda_Elementary_San_Bernardino_AR3514.pdf: [Errno 2] No such file or directory: '/Users/sooyeonkim/Desktop/TenStrands/AR_pdf/Etiwanda_Elementary_San_Bernardino_AR3514.pdf'\n",
      "Failed to process /Users/sooyeonkim/Desktop/TenStrands/BP_pdf/Etiwanda_Elementary_San_Bernardino_BP3514.pdf: [Errno 2] No such file or directory: '/Users/sooyeonkim/Desktop/TenStrands/BP_pdf/Etiwanda_Elementary_San_Bernardino_BP3514.pdf'\n",
      "Failed to process /Users/sooyeonkim/Desktop/TenStrands/BP_pdf/Morongo_Unified_San_Bernardino_BP3514.pdf: [Errno 2] No such file or directory: '/Users/sooyeonkim/Desktop/TenStrands/BP_pdf/Morongo_Unified_San_Bernardino_BP3514.pdf'\n",
      "Failed to process /Users/sooyeonkim/Desktop/TenStrands/BP_pdf/Rim_of_the_World_Unified_San_Bernardino_BP3514.pdf: [Errno 2] No such file or directory: '/Users/sooyeonkim/Desktop/TenStrands/BP_pdf/Rim_of_the_World_Unified_San_Bernardino_BP3514.pdf'\n",
      "Failed to process /Users/sooyeonkim/Desktop/TenStrands/AR_pdf/Victor_Elementary_San_Bernardino_AR3514.pdf: [Errno 2] No such file or directory: '/Users/sooyeonkim/Desktop/TenStrands/AR_pdf/Victor_Elementary_San_Bernardino_AR3514.pdf'\n",
      "Failed to process /Users/sooyeonkim/Desktop/TenStrands/BP_pdf/Victor_Elementary_San_Bernardino_BP3514.pdf: [Errno 2] No such file or directory: '/Users/sooyeonkim/Desktop/TenStrands/BP_pdf/Victor_Elementary_San_Bernardino_BP3514.pdf'\n",
      "Failed to process /Users/sooyeonkim/Desktop/TenStrands/BP_pdf/Yucaipa-Calimesa_Joint_Unified_San_Bernardino_BP3514.pdf: [Errno 2] No such file or directory: '/Users/sooyeonkim/Desktop/TenStrands/BP_pdf/Yucaipa-Calimesa_Joint_Unified_San_Bernardino_BP3514.pdf'\n",
      "Failed to process /Users/sooyeonkim/Desktop/TenStrands/AR_pdf/Silver_Valley_Unified_San_Bernardino_AR3514.pdf: [Errno 2] No such file or directory: '/Users/sooyeonkim/Desktop/TenStrands/AR_pdf/Silver_Valley_Unified_San_Bernardino_AR3514.pdf'\n",
      "Failed to process /Users/sooyeonkim/Desktop/TenStrands/BP_pdf/Silver_Valley_Unified_San_Bernardino_BP3514.pdf: [Errno 2] No such file or directory: '/Users/sooyeonkim/Desktop/TenStrands/BP_pdf/Silver_Valley_Unified_San_Bernardino_BP3514.pdf'\n",
      "Failed to process /Users/sooyeonkim/Desktop/TenStrands/BP_pdf/Snowline_Joint_Unified_San_Bernardino_BP3514.pdf: [Errno 2] No such file or directory: '/Users/sooyeonkim/Desktop/TenStrands/BP_pdf/Snowline_Joint_Unified_San_Bernardino_BP3514.pdf'\n",
      "Failed to process /Users/sooyeonkim/Desktop/TenStrands/AR_pdf/Alpine_Union_Elementary_San_Diego_AR3514.pdf: [Errno 2] No such file or directory: '/Users/sooyeonkim/Desktop/TenStrands/AR_pdf/Alpine_Union_Elementary_San_Diego_AR3514.pdf'\n",
      "Failed to process /Users/sooyeonkim/Desktop/TenStrands/AR_pdf/Borrego_Springs_Unified_San_Diego_AR3514.pdf: [Errno 2] No such file or directory: '/Users/sooyeonkim/Desktop/TenStrands/AR_pdf/Borrego_Springs_Unified_San_Diego_AR3514.pdf'\n",
      "Failed to process /Users/sooyeonkim/Desktop/TenStrands/AR_pdf/Cardiff_Elementary_San_Diego_AR3514.pdf: [Errno 2] No such file or directory: '/Users/sooyeonkim/Desktop/TenStrands/AR_pdf/Cardiff_Elementary_San_Diego_AR3514.pdf'\n",
      "Failed to process /Users/sooyeonkim/Desktop/TenStrands/BP_pdf/Cardiff_Elementary_San_Diego_BP3514.pdf: [Errno 2] No such file or directory: '/Users/sooyeonkim/Desktop/TenStrands/BP_pdf/Cardiff_Elementary_San_Diego_BP3514.pdf'\n",
      "Failed to process /Users/sooyeonkim/Desktop/TenStrands/AR_pdf/Del_Mar_Union_Elementary_San_Diego_AR3514.pdf: [Errno 2] No such file or directory: '/Users/sooyeonkim/Desktop/TenStrands/AR_pdf/Del_Mar_Union_Elementary_San_Diego_AR3514.pdf'\n",
      "Failed to process /Users/sooyeonkim/Desktop/TenStrands/BP_pdf/Del_Mar_Union_Elementary_San_Diego_BP3514.pdf: [Errno 2] No such file or directory: '/Users/sooyeonkim/Desktop/TenStrands/BP_pdf/Del_Mar_Union_Elementary_San_Diego_BP3514.pdf'\n",
      "Failed to process /Users/sooyeonkim/Desktop/TenStrands/AR_pdf/Grossmont_Union_High_San_Diego_AR3514.pdf: [Errno 2] No such file or directory: '/Users/sooyeonkim/Desktop/TenStrands/AR_pdf/Grossmont_Union_High_San_Diego_AR3514.pdf'\n",
      "Failed to process /Users/sooyeonkim/Desktop/TenStrands/BP_pdf/Grossmont_Union_High_San_Diego_BP3514.pdf: [Errno 2] No such file or directory: '/Users/sooyeonkim/Desktop/TenStrands/BP_pdf/Grossmont_Union_High_San_Diego_BP3514.pdf'\n",
      "Failed to process /Users/sooyeonkim/Desktop/TenStrands/AR_pdf/Lakeside_Union_Elementary_San_Diego_AR3514.pdf: [Errno 2] No such file or directory: '/Users/sooyeonkim/Desktop/TenStrands/AR_pdf/Lakeside_Union_Elementary_San_Diego_AR3514.pdf'\n",
      "Failed to process /Users/sooyeonkim/Desktop/TenStrands/AR_pdf/Lemon_Grove_San_Diego_AR3514.pdf: [Errno 2] No such file or directory: '/Users/sooyeonkim/Desktop/TenStrands/AR_pdf/Lemon_Grove_San_Diego_AR3514.pdf'\n",
      "Failed to process /Users/sooyeonkim/Desktop/TenStrands/AR_pdf/Poway_Unified_San_Diego_AR3514.pdf: [Errno 2] No such file or directory: '/Users/sooyeonkim/Desktop/TenStrands/AR_pdf/Poway_Unified_San_Diego_AR3514.pdf'\n",
      "Failed to process /Users/sooyeonkim/Desktop/TenStrands/AR_pdf/San_Diego_Unified_San_Diego_AR3514.pdf: [Errno 2] No such file or directory: '/Users/sooyeonkim/Desktop/TenStrands/AR_pdf/San_Diego_Unified_San_Diego_AR3514.pdf'\n",
      "Failed to process /Users/sooyeonkim/Desktop/TenStrands/AR_pdf/Santee_San_Diego_AR3514.pdf: [Errno 2] No such file or directory: '/Users/sooyeonkim/Desktop/TenStrands/AR_pdf/Santee_San_Diego_AR3514.pdf'\n",
      "Failed to process /Users/sooyeonkim/Desktop/TenStrands/AR_pdf/San_Francisco_Unified_San_Francisco_AR3514.pdf: [Errno 2] No such file or directory: '/Users/sooyeonkim/Desktop/TenStrands/AR_pdf/San_Francisco_Unified_San_Francisco_AR3514.pdf'\n",
      "Failed to process /Users/sooyeonkim/Desktop/TenStrands/BP_pdf/San_Francisco_Unified_San_Francisco_BP3514.pdf: [Errno 2] No such file or directory: '/Users/sooyeonkim/Desktop/TenStrands/BP_pdf/San_Francisco_Unified_San_Francisco_BP3514.pdf'\n",
      "Failed to process /Users/sooyeonkim/Desktop/TenStrands/AR_pdf/Lincoln_Unified_San_Joaquin_AR3514.pdf: [Errno 2] No such file or directory: '/Users/sooyeonkim/Desktop/TenStrands/AR_pdf/Lincoln_Unified_San_Joaquin_AR3514.pdf'\n",
      "Failed to process /Users/sooyeonkim/Desktop/TenStrands/BP_pdf/Lincoln_Unified_San_Joaquin_BP3514.pdf: [Errno 2] No such file or directory: '/Users/sooyeonkim/Desktop/TenStrands/BP_pdf/Lincoln_Unified_San_Joaquin_BP3514.pdf'\n",
      "Failed to process /Users/sooyeonkim/Desktop/TenStrands/AR_pdf/Lodi_Unified_San_Joaquin_AR3514.pdf: [Errno 2] No such file or directory: '/Users/sooyeonkim/Desktop/TenStrands/AR_pdf/Lodi_Unified_San_Joaquin_AR3514.pdf'\n",
      "Failed to process /Users/sooyeonkim/Desktop/TenStrands/AR_pdf/Manteca_Unified_San_Joaquin_AR3514.pdf: [Errno 2] No such file or directory: '/Users/sooyeonkim/Desktop/TenStrands/AR_pdf/Manteca_Unified_San_Joaquin_AR3514.pdf'\n",
      "Failed to process /Users/sooyeonkim/Desktop/TenStrands/BP_pdf/Manteca_Unified_San_Joaquin_BP3514.pdf: [Errno 2] No such file or directory: '/Users/sooyeonkim/Desktop/TenStrands/BP_pdf/Manteca_Unified_San_Joaquin_BP3514.pdf'\n",
      "Failed to process /Users/sooyeonkim/Desktop/TenStrands/AR_pdf/Stockton_Unified_San_Joaquin_AR3514.pdf: [Errno 2] No such file or directory: '/Users/sooyeonkim/Desktop/TenStrands/AR_pdf/Stockton_Unified_San_Joaquin_AR3514.pdf'\n",
      "Failed to process /Users/sooyeonkim/Desktop/TenStrands/BP_pdf/San_Mateo-Foster_City_San_Mateo_BP3514.pdf: [Errno 2] No such file or directory: '/Users/sooyeonkim/Desktop/TenStrands/BP_pdf/San_Mateo-Foster_City_San_Mateo_BP3514.pdf'\n",
      "Failed to process /Users/sooyeonkim/Desktop/TenStrands/AR_pdf/Guadalupe_Union_Elementary_Santa_Barbara_AR3514.pdf: [Errno 2] No such file or directory: '/Users/sooyeonkim/Desktop/TenStrands/AR_pdf/Guadalupe_Union_Elementary_Santa_Barbara_AR3514.pdf'\n",
      "Failed to process /Users/sooyeonkim/Desktop/TenStrands/AR_pdf/Hope_Elementary_Santa_Barbara_AR3514.pdf: [Errno 2] No such file or directory: '/Users/sooyeonkim/Desktop/TenStrands/AR_pdf/Hope_Elementary_Santa_Barbara_AR3514.pdf'\n",
      "Failed to process /Users/sooyeonkim/Desktop/TenStrands/AR_pdf/Orcutt_Union_Elementary_Santa_Barbara_AR3514.pdf: [Errno 2] No such file or directory: '/Users/sooyeonkim/Desktop/TenStrands/AR_pdf/Orcutt_Union_Elementary_Santa_Barbara_AR3514.pdf'\n",
      "Failed to process /Users/sooyeonkim/Desktop/TenStrands/BP_pdf/Orcutt_Union_Elementary_Santa_Barbara_BP3514.pdf: [Errno 2] No such file or directory: '/Users/sooyeonkim/Desktop/TenStrands/BP_pdf/Orcutt_Union_Elementary_Santa_Barbara_BP3514.pdf'\n",
      "Failed to process /Users/sooyeonkim/Desktop/TenStrands/AR_pdf/Cuyama_Joint_Unified_Santa_Barbara_AR3514.pdf: [Errno 2] No such file or directory: '/Users/sooyeonkim/Desktop/TenStrands/AR_pdf/Cuyama_Joint_Unified_Santa_Barbara_AR3514.pdf'\n",
      "Failed to process /Users/sooyeonkim/Desktop/TenStrands/AR_pdf/Cupertino_Union_Santa_Clara_AR3514.pdf: [Errno 2] No such file or directory: '/Users/sooyeonkim/Desktop/TenStrands/AR_pdf/Cupertino_Union_Santa_Clara_AR3514.pdf'\n",
      "Failed to process /Users/sooyeonkim/Desktop/TenStrands/AR_pdf/East_Side_Union_High_Santa_Clara_AR3514.pdf: [Errno 2] No such file or directory: '/Users/sooyeonkim/Desktop/TenStrands/AR_pdf/East_Side_Union_High_Santa_Clara_AR3514.pdf'\n",
      "Failed to process /Users/sooyeonkim/Desktop/TenStrands/BP_pdf/East_Side_Union_High_Santa_Clara_BP3514.pdf: [Errno 2] No such file or directory: '/Users/sooyeonkim/Desktop/TenStrands/BP_pdf/East_Side_Union_High_Santa_Clara_BP3514.pdf'\n",
      "Failed to process /Users/sooyeonkim/Desktop/TenStrands/AR_pdf/Los_Gatos_Union_Elementary_Santa_Clara_AR3514.pdf: [Errno 2] No such file or directory: '/Users/sooyeonkim/Desktop/TenStrands/AR_pdf/Los_Gatos_Union_Elementary_Santa_Clara_AR3514.pdf'\n",
      "Failed to process /Users/sooyeonkim/Desktop/TenStrands/BP_pdf/Morgan_Hill_Unified_Santa_Clara_BP3514.pdf: [Errno 2] No such file or directory: '/Users/sooyeonkim/Desktop/TenStrands/BP_pdf/Morgan_Hill_Unified_Santa_Clara_BP3514.pdf'\n",
      "Failed to process /Users/sooyeonkim/Desktop/TenStrands/AR_pdf/Mount_Pleasant_Elementary_Santa_Clara_AR3514.pdf: [Errno 2] No such file or directory: '/Users/sooyeonkim/Desktop/TenStrands/AR_pdf/Mount_Pleasant_Elementary_Santa_Clara_AR3514.pdf'\n",
      "Failed to process /Users/sooyeonkim/Desktop/TenStrands/AR_pdf/Oak_Grove_Elementary_Santa_Clara_AR3514.pdf: [Errno 2] No such file or directory: '/Users/sooyeonkim/Desktop/TenStrands/AR_pdf/Oak_Grove_Elementary_Santa_Clara_AR3514.pdf'\n",
      "Failed to process /Users/sooyeonkim/Desktop/TenStrands/BP_pdf/Palo_Alto_Unified_Santa_Clara_BP3514.pdf: [Errno 2] No such file or directory: '/Users/sooyeonkim/Desktop/TenStrands/BP_pdf/Palo_Alto_Unified_Santa_Clara_BP3514.pdf'\n",
      "Failed to process /Users/sooyeonkim/Desktop/TenStrands/AR_pdf/San_Jose_Unified_Santa_Clara_AR3514.pdf: [Errno 2] No such file or directory: '/Users/sooyeonkim/Desktop/TenStrands/AR_pdf/San_Jose_Unified_Santa_Clara_AR3514.pdf'\n",
      "Failed to process /Users/sooyeonkim/Desktop/TenStrands/BP_pdf/Bonny_Doon_Union_Elementary_Santa_Cruz_BP3514.pdf: [Errno 2] No such file or directory: '/Users/sooyeonkim/Desktop/TenStrands/BP_pdf/Bonny_Doon_Union_Elementary_Santa_Cruz_BP3514.pdf'\n",
      "Failed to process /Users/sooyeonkim/Desktop/TenStrands/AR_pdf/San_Lorenzo_Valley_Unified_Santa_Cruz_AR3514.pdf: [Errno 2] No such file or directory: '/Users/sooyeonkim/Desktop/TenStrands/AR_pdf/San_Lorenzo_Valley_Unified_Santa_Cruz_AR3514.pdf'\n",
      "Failed to process /Users/sooyeonkim/Desktop/TenStrands/AR_pdf/Castle_Rock_Union_Elementary_Shasta_AR3514.pdf: [Errno 2] No such file or directory: '/Users/sooyeonkim/Desktop/TenStrands/AR_pdf/Castle_Rock_Union_Elementary_Shasta_AR3514.pdf'\n",
      "Failed to process /Users/sooyeonkim/Desktop/TenStrands/BP_pdf/Columbia_Elementary_Shasta_BP3514.pdf: [Errno 2] No such file or directory: '/Users/sooyeonkim/Desktop/TenStrands/BP_pdf/Columbia_Elementary_Shasta_BP3514.pdf'\n",
      "Failed to process /Users/sooyeonkim/Desktop/TenStrands/BP_pdf/Happy_Valley_Union_Elementary_Shasta_BP3514.pdf: [Errno 2] No such file or directory: '/Users/sooyeonkim/Desktop/TenStrands/BP_pdf/Happy_Valley_Union_Elementary_Shasta_BP3514.pdf'\n",
      "Failed to process /Users/sooyeonkim/Desktop/TenStrands/AR_pdf/Mountain_Union_Elementary_Shasta_AR3514.pdf: [Errno 2] No such file or directory: '/Users/sooyeonkim/Desktop/TenStrands/AR_pdf/Mountain_Union_Elementary_Shasta_AR3514.pdf'\n",
      "Failed to process /Users/sooyeonkim/Desktop/TenStrands/BP_pdf/Bellevue_Union_Sonoma_BP3514.pdf: [Errno 2] No such file or directory: '/Users/sooyeonkim/Desktop/TenStrands/BP_pdf/Bellevue_Union_Sonoma_BP3514.pdf'\n",
      "Failed to process /Users/sooyeonkim/Desktop/TenStrands/AR_pdf/Guerneville_Elementary_Sonoma_AR3514.pdf: [Errno 2] No such file or directory: '/Users/sooyeonkim/Desktop/TenStrands/AR_pdf/Guerneville_Elementary_Sonoma_AR3514.pdf'\n",
      "Failed to process /Users/sooyeonkim/Desktop/TenStrands/BP_pdf/Guerneville_Elementary_Sonoma_BP3514.pdf: [Errno 2] No such file or directory: '/Users/sooyeonkim/Desktop/TenStrands/BP_pdf/Guerneville_Elementary_Sonoma_BP3514.pdf'\n",
      "Failed to process /Users/sooyeonkim/Desktop/TenStrands/AR_pdf/Cotati-Rohnert_Park_Unified_Sonoma_AR3514.pdf: [Errno 2] No such file or directory: '/Users/sooyeonkim/Desktop/TenStrands/AR_pdf/Cotati-Rohnert_Park_Unified_Sonoma_AR3514.pdf'\n",
      "Failed to process /Users/sooyeonkim/Desktop/TenStrands/BP_pdf/Newman-Crows_Landing_Unified_Stanislaus_BP3514.pdf: [Errno 2] No such file or directory: '/Users/sooyeonkim/Desktop/TenStrands/BP_pdf/Newman-Crows_Landing_Unified_Stanislaus_BP3514.pdf'\n",
      "Failed to process /Users/sooyeonkim/Desktop/TenStrands/AR_pdf/Brittan_Elementary_Sutter_AR3514.pdf: [Errno 2] No such file or directory: '/Users/sooyeonkim/Desktop/TenStrands/AR_pdf/Brittan_Elementary_Sutter_AR3514.pdf'\n",
      "Failed to process /Users/sooyeonkim/Desktop/TenStrands/BP_pdf/Marcum-Illinois_Union_Elementary_Sutter_BP3514.pdf: [Errno 2] No such file or directory: '/Users/sooyeonkim/Desktop/TenStrands/BP_pdf/Marcum-Illinois_Union_Elementary_Sutter_BP3514.pdf'\n",
      "Failed to process /Users/sooyeonkim/Desktop/TenStrands/AR_pdf/Nuestro_Elementary_Sutter_AR3514.pdf: [Errno 2] No such file or directory: '/Users/sooyeonkim/Desktop/TenStrands/AR_pdf/Nuestro_Elementary_Sutter_AR3514.pdf'\n",
      "Failed to process /Users/sooyeonkim/Desktop/TenStrands/BP_pdf/Nuestro_Elementary_Sutter_BP3514.pdf: [Errno 2] No such file or directory: '/Users/sooyeonkim/Desktop/TenStrands/BP_pdf/Nuestro_Elementary_Sutter_BP3514.pdf'\n",
      "Failed to process /Users/sooyeonkim/Desktop/TenStrands/AR_pdf/Los_Molinos_Unified_Tehama_AR3514.pdf: [Errno 2] No such file or directory: '/Users/sooyeonkim/Desktop/TenStrands/AR_pdf/Los_Molinos_Unified_Tehama_AR3514.pdf'\n",
      "Failed to process /Users/sooyeonkim/Desktop/TenStrands/AR_pdf/Richfield_Elementary_Tehama_AR3514.pdf: [Errno 2] No such file or directory: '/Users/sooyeonkim/Desktop/TenStrands/AR_pdf/Richfield_Elementary_Tehama_AR3514.pdf'\n",
      "Failed to process /Users/sooyeonkim/Desktop/TenStrands/AR_pdf/Mountain_Valley_Unified_Trinity_AR3514.pdf: [Errno 2] No such file or directory: '/Users/sooyeonkim/Desktop/TenStrands/AR_pdf/Mountain_Valley_Unified_Trinity_AR3514.pdf'\n",
      "Failed to process /Users/sooyeonkim/Desktop/TenStrands/BP_pdf/Alta_Vista_Elementary_Tulare_BP3514.pdf: [Errno 2] No such file or directory: '/Users/sooyeonkim/Desktop/TenStrands/BP_pdf/Alta_Vista_Elementary_Tulare_BP3514.pdf'\n",
      "Failed to process /Users/sooyeonkim/Desktop/TenStrands/BP_pdf/Cutler-Orosi_Joint_Unified_Tulare_BP3514.pdf: [Errno 2] No such file or directory: '/Users/sooyeonkim/Desktop/TenStrands/BP_pdf/Cutler-Orosi_Joint_Unified_Tulare_BP3514.pdf'\n",
      "Failed to process /Users/sooyeonkim/Desktop/TenStrands/AR_pdf/Lindsay_Unified_Tulare_AR3514.pdf: [Errno 2] No such file or directory: '/Users/sooyeonkim/Desktop/TenStrands/AR_pdf/Lindsay_Unified_Tulare_AR3514.pdf'\n",
      "Failed to process /Users/sooyeonkim/Desktop/TenStrands/BP_pdf/Lindsay_Unified_Tulare_BP3514.pdf: [Errno 2] No such file or directory: '/Users/sooyeonkim/Desktop/TenStrands/BP_pdf/Lindsay_Unified_Tulare_BP3514.pdf'\n",
      "Failed to process /Users/sooyeonkim/Desktop/TenStrands/AR_pdf/Rockford_Elementary_Tulare_AR3514.pdf: [Errno 2] No such file or directory: '/Users/sooyeonkim/Desktop/TenStrands/AR_pdf/Rockford_Elementary_Tulare_AR3514.pdf'\n",
      "Failed to process /Users/sooyeonkim/Desktop/TenStrands/AR_pdf/Terra_Bella_Union_Elementary_Tulare_AR3514.pdf: [Errno 2] No such file or directory: '/Users/sooyeonkim/Desktop/TenStrands/AR_pdf/Terra_Bella_Union_Elementary_Tulare_AR3514.pdf'\n",
      "Failed to process /Users/sooyeonkim/Desktop/TenStrands/BP_pdf/Terra_Bella_Union_Elementary_Tulare_BP3514.pdf: [Errno 2] No such file or directory: '/Users/sooyeonkim/Desktop/TenStrands/BP_pdf/Terra_Bella_Union_Elementary_Tulare_BP3514.pdf'\n",
      "Failed to process /Users/sooyeonkim/Desktop/TenStrands/AR_pdf/Three_Rivers_Union_Elementary_Tulare_AR3514.pdf: [Errno 2] No such file or directory: '/Users/sooyeonkim/Desktop/TenStrands/AR_pdf/Three_Rivers_Union_Elementary_Tulare_AR3514.pdf'\n",
      "Failed to process /Users/sooyeonkim/Desktop/TenStrands/BP_pdf/Three_Rivers_Union_Elementary_Tulare_BP3514.pdf: [Errno 2] No such file or directory: '/Users/sooyeonkim/Desktop/TenStrands/BP_pdf/Three_Rivers_Union_Elementary_Tulare_BP3514.pdf'\n",
      "Failed to process /Users/sooyeonkim/Desktop/TenStrands/AR_pdf/Farmersville_Unified_Tulare_AR3514.pdf: [Errno 2] No such file or directory: '/Users/sooyeonkim/Desktop/TenStrands/AR_pdf/Farmersville_Unified_Tulare_AR3514.pdf'\n",
      "Failed to process /Users/sooyeonkim/Desktop/TenStrands/AR_pdf/Columbia_Union_Tuolumne_AR3514.pdf: [Errno 2] No such file or directory: '/Users/sooyeonkim/Desktop/TenStrands/AR_pdf/Columbia_Union_Tuolumne_AR3514.pdf'\n",
      "Failed to process /Users/sooyeonkim/Desktop/TenStrands/BP_pdf/Columbia_Union_Tuolumne_BP3514.pdf: [Errno 2] No such file or directory: '/Users/sooyeonkim/Desktop/TenStrands/BP_pdf/Columbia_Union_Tuolumne_BP3514.pdf'\n",
      "Failed to process /Users/sooyeonkim/Desktop/TenStrands/BP_pdf/Ocean_View_Ventura_BP3514.pdf: [Errno 2] No such file or directory: '/Users/sooyeonkim/Desktop/TenStrands/BP_pdf/Ocean_View_Ventura_BP3514.pdf'\n",
      "Failed to process /Users/sooyeonkim/Desktop/TenStrands/BP_pdf/Ojai_Unified_Ventura_BP3514.pdf: [Errno 2] No such file or directory: '/Users/sooyeonkim/Desktop/TenStrands/BP_pdf/Ojai_Unified_Ventura_BP3514.pdf'\n",
      "Failed to process /Users/sooyeonkim/Desktop/TenStrands/AR_pdf/Ventura_Unified_Ventura_AR3514.pdf: [Errno 2] No such file or directory: '/Users/sooyeonkim/Desktop/TenStrands/AR_pdf/Ventura_Unified_Ventura_AR3514.pdf'\n",
      "Failed to process /Users/sooyeonkim/Desktop/TenStrands/AR_pdf/Conejo_Valley_Unified_Ventura_AR3514.pdf: [Errno 2] No such file or directory: '/Users/sooyeonkim/Desktop/TenStrands/AR_pdf/Conejo_Valley_Unified_Ventura_AR3514.pdf'\n",
      "Failed to process /Users/sooyeonkim/Desktop/TenStrands/BP_pdf/Oak_Park_Unified_Ventura_BP3514.pdf: [Errno 2] No such file or directory: '/Users/sooyeonkim/Desktop/TenStrands/BP_pdf/Oak_Park_Unified_Ventura_BP3514.pdf'\n",
      "Failed to process /Users/sooyeonkim/Desktop/TenStrands/AR_pdf/Esparto_Unified_Yolo_AR3514.pdf: [Errno 2] No such file or directory: '/Users/sooyeonkim/Desktop/TenStrands/AR_pdf/Esparto_Unified_Yolo_AR3514.pdf'\n"
     ]
    }
   ],
   "source": [
    "for index, row in df.iterrows():\n",
    "    if pd.notna(row['AR3514: Path to PDF']):\n",
    "        ar_text = extract_text_from_pdf(row['AR3514: Path to PDF'])\n",
    "        df.at[index, 'AR3514: PDF Text'] = ar_text\n",
    "\n",
    "    if pd.notna(row['BP3514: Path to PDF']):\n",
    "        bp_text = extract_text_from_pdf(row['BP3514: Path to PDF'])\n",
    "        df.at[index, 'BP3514: PDF Text'] = bp_text"
   ]
  },
  {
   "cell_type": "code",
   "execution_count": 10,
   "metadata": {
    "scrolled": true
   },
   "outputs": [
    {
     "data": {
      "text/plain": [
       "4       1611760000000\n",
       "56      9619290000000\n",
       "64     10621170000000\n",
       "73     10624140000000\n",
       "79     10739990000000\n",
       "83     10767780000000\n",
       "108    13630810000000\n",
       "121    14766870000000\n",
       "142    15637500000000\n",
       "174    18641390000000\n",
       "221    19648810000000\n",
       "266    22655320000000\n",
       "337    30666130000000\n",
       "385    34752830000000\n",
       "400    36677020000000\n",
       "403    36677770000000\n",
       "410    36678680000000\n",
       "413    36679180000000\n",
       "415    36679590000000\n",
       "425    37680070000000\n",
       "428    37680560000000\n",
       "434    37681300000000\n",
       "458    38684780000000\n",
       "461    39685690000000\n",
       "464    39685930000000\n",
       "508    42692600000000\n",
       "518    43694270000000\n",
       "533    43696410000000\n",
       "539    44697320000000\n",
       "589    49707220000000\n",
       "633    51714230000000\n",
       "650    54718600000000\n",
       "654    54719930000000\n",
       "662    54721990000000\n",
       "663    54722070000000\n",
       "674    55723480000000\n",
       "685    56725120000000\n",
       "686    56725200000000\n",
       "694    56738740000000\n",
       "Name: CDS Code, dtype: int64"
      ]
     },
     "execution_count": 10,
     "metadata": {},
     "output_type": "execute_result"
    }
   ],
   "source": [
    "df[df['BP3514: PDF Text'].isna() & (df['BP: 3514 Environmental Safety'] == 1)]['CDS Code']"
   ]
  },
  {
   "cell_type": "code",
   "execution_count": 15,
   "metadata": {
    "scrolled": true
   },
   "outputs": [
    {
     "data": {
      "text/plain": [
       "4       1611760000000\n",
       "30      6616060000000\n",
       "37      7617050000000\n",
       "57      9619520000000\n",
       "79     10739990000000\n",
       "80     10752340000000\n",
       "100    12630320000000\n",
       "110    13631070000000\n",
       "174    18641390000000\n",
       "215    19648080000000\n",
       "221    19648810000000\n",
       "255    20764140000000\n",
       "257    21653910000000\n",
       "274    23739160000000\n",
       "300    27660680000000\n",
       "382    34674390000000\n",
       "385    34752830000000\n",
       "400    36677020000000\n",
       "413    36679180000000\n",
       "417    36738900000000\n",
       "425    37680070000000\n",
       "428    37680560000000\n",
       "434    37681300000000\n",
       "444    37683380000000\n",
       "446    37683610000000\n",
       "464    39685930000000\n",
       "467    39686760000000\n",
       "503    42692030000000\n",
       "518    43694270000000\n",
       "531    43696170000000\n",
       "589    49707220000000\n",
       "654    54719930000000\n",
       "663    54722070000000\n",
       "674    55723480000000\n",
       "Name: CDS Code, dtype: int64"
      ]
     },
     "execution_count": 15,
     "metadata": {},
     "output_type": "execute_result"
    }
   ],
   "source": [
    "df[df['AR3514: PDF Text'].isna() & (df['AR: 3514 Environmental Safety Regulation'] == 1)]['CDS Code']"
   ]
  },
  {
   "cell_type": "code",
   "execution_count": 16,
   "metadata": {},
   "outputs": [],
   "source": [
    "import re\n",
    "\n",
    "def clean_text(text):\n",
    "    \"\"\"Remove or replace illegal XML characters from the text.\"\"\"\n",
    "    if text is not None and isinstance(text, str):\n",
    "        # XML 1.0 valid characters:\n",
    "        illegal_xml_chars = re.compile(u'[\\u0000-\\u0008\\u000B\\u000C\\u000E-\\u001F\\uD800-\\uDFFF\\uFFFE\\uFFFF]')\n",
    "        return illegal_xml_chars.sub('', text)\n",
    "    return text\n"
   ]
  },
  {
   "cell_type": "code",
   "execution_count": 17,
   "metadata": {},
   "outputs": [],
   "source": [
    "df['BP3514: PDF Text'] = df['BP3514: PDF Text'].apply(clean_text)\n",
    "df['AR3514: PDF Text'] = df['AR3514: PDF Text'].apply(clean_text)\n"
   ]
  },
  {
   "cell_type": "code",
   "execution_count": 18,
   "metadata": {
    "scrolled": true
   },
   "outputs": [],
   "source": [
    "def clean_text(text):\n",
    "    if pd.isna(text):  # check if the text is NaN\n",
    "        return text  # return as is or consider \"return ''\" to replace NaN with empty string\n",
    "        \n",
    "    # removing line breaks and excessive whitespace\n",
    "    text = re.sub(r'\\s+', ' ', text)\n",
    "    \n",
    "    # removing URLs \n",
    "    text = re.sub(r'https?://\\S+', '', text)\n",
    "        \n",
    "    # lowercase the text\n",
    "    text = text.lower()\n",
    "    \n",
    "    return text\n",
    "\n",
    "# applying cleaning function to text columns\n",
    "df['BP3514: PDF Text'] = df['BP3514: PDF Text'].apply(clean_text)\n",
    "df['AR3514: PDF Text'] = df['AR3514: PDF Text'].apply(clean_text)"
   ]
  },
  {
   "cell_type": "code",
   "execution_count": null,
   "metadata": {},
   "outputs": [],
   "source": [
    "df.to_excel(\"BP_AR_3514.xlsx\")\n",
    "df.to_csv(\"BP_AR_3514.csv\")"
   ]
  },
  {
   "cell_type": "code",
   "execution_count": null,
   "metadata": {},
   "outputs": [],
   "source": []
  }
 ],
 "metadata": {
  "kernelspec": {
   "display_name": "Python 3 (ipykernel)",
   "language": "python",
   "name": "python3"
  },
  "language_info": {
   "codemirror_mode": {
    "name": "ipython",
    "version": 3
   },
   "file_extension": ".py",
   "mimetype": "text/x-python",
   "name": "python",
   "nbconvert_exporter": "python",
   "pygments_lexer": "ipython3",
   "version": "3.12.0"
  }
 },
 "nbformat": 4,
 "nbformat_minor": 4
}
